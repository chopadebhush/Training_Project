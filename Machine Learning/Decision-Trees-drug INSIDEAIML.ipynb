{
 "cells": [
  {
   "cell_type": "markdown",
   "metadata": {
    "button": false,
    "new_sheet": false,
    "run_control": {
     "read_only": false
    }
   },
   "source": [
    "Import the Following Libraries:\n",
    "\n",
    "<ul>\n",
    "    <li> <b>numpy (as np)</b> </li>\n",
    "    <li> <b>pandas</b> </li>\n",
    "    <li> <b>DecisionTreeClassifier</b> from <b>sklearn.tree</b> </li>\n",
    "</ul>\n"
   ]
  },
  {
   "cell_type": "code",
   "execution_count": 1,
   "metadata": {
    "button": false,
    "new_sheet": false,
    "run_control": {
     "read_only": false
    }
   },
   "outputs": [],
   "source": [
    "import numpy as np \n",
    "import pandas as pd\n",
    "from sklearn.tree import DecisionTreeClassifier"
   ]
  },
  {
   "cell_type": "markdown",
   "metadata": {
    "button": false,
    "new_sheet": false,
    "run_control": {
     "read_only": false
    }
   },
   "source": [
    "<div id=\"about_dataset\">\n",
    "    <h2>About the dataset</h2>\n",
    "    Imagine that you are a medical researcher compiling data for a study. You have collected data about a set of patients, all of whom suffered from the same illness. During their course of treatment, each patient responded to one of 5 medications, Drug A, Drug B, Drug c, Drug x and y. \n",
    "    <br>\n",
    "    <br>\n",
    "    Part of your job is to build a model to find out which drug might be appropriate for a future patient with the same illness. The feature sets of this dataset are Age, Sex, Blood Pressure, and Cholesterol of patients, and the target is the drug that each patient responded to.\n",
    "    <br>\n",
    "    <br>\n",
    "    It is a sample of multiclass classifier, and you can use the training part of the dataset \n",
    "    to build a decision tree, and then use it to predict the class of a unknown patient, or to prescribe it to a new patient.\n",
    "</div>\n"
   ]
  },
  {
   "cell_type": "markdown",
   "metadata": {},
   "source": [
    "Now, read data using pandas dataframe:\n"
   ]
  },
  {
   "cell_type": "code",
   "execution_count": 23,
   "metadata": {
    "button": false,
    "new_sheet": false,
    "run_control": {
     "read_only": false
    }
   },
   "outputs": [
    {
     "data": {
      "text/html": [
       "<div>\n",
       "<style scoped>\n",
       "    .dataframe tbody tr th:only-of-type {\n",
       "        vertical-align: middle;\n",
       "    }\n",
       "\n",
       "    .dataframe tbody tr th {\n",
       "        vertical-align: top;\n",
       "    }\n",
       "\n",
       "    .dataframe thead th {\n",
       "        text-align: right;\n",
       "    }\n",
       "</style>\n",
       "<table border=\"1\" class=\"dataframe\">\n",
       "  <thead>\n",
       "    <tr style=\"text-align: right;\">\n",
       "      <th></th>\n",
       "      <th>Age</th>\n",
       "      <th>Sex</th>\n",
       "      <th>BP</th>\n",
       "      <th>Cholesterol</th>\n",
       "      <th>Na_to_K</th>\n",
       "      <th>Drug</th>\n",
       "    </tr>\n",
       "  </thead>\n",
       "  <tbody>\n",
       "    <tr>\n",
       "      <th>0</th>\n",
       "      <td>23</td>\n",
       "      <td>F</td>\n",
       "      <td>HIGH</td>\n",
       "      <td>HIGH</td>\n",
       "      <td>25.355</td>\n",
       "      <td>drugY</td>\n",
       "    </tr>\n",
       "    <tr>\n",
       "      <th>1</th>\n",
       "      <td>47</td>\n",
       "      <td>M</td>\n",
       "      <td>LOW</td>\n",
       "      <td>HIGH</td>\n",
       "      <td>13.093</td>\n",
       "      <td>drugC</td>\n",
       "    </tr>\n",
       "    <tr>\n",
       "      <th>2</th>\n",
       "      <td>47</td>\n",
       "      <td>M</td>\n",
       "      <td>LOW</td>\n",
       "      <td>HIGH</td>\n",
       "      <td>10.114</td>\n",
       "      <td>drugC</td>\n",
       "    </tr>\n",
       "    <tr>\n",
       "      <th>3</th>\n",
       "      <td>28</td>\n",
       "      <td>F</td>\n",
       "      <td>NORMAL</td>\n",
       "      <td>HIGH</td>\n",
       "      <td>7.798</td>\n",
       "      <td>drugX</td>\n",
       "    </tr>\n",
       "    <tr>\n",
       "      <th>4</th>\n",
       "      <td>61</td>\n",
       "      <td>F</td>\n",
       "      <td>LOW</td>\n",
       "      <td>HIGH</td>\n",
       "      <td>18.043</td>\n",
       "      <td>drugY</td>\n",
       "    </tr>\n",
       "    <tr>\n",
       "      <th>5</th>\n",
       "      <td>22</td>\n",
       "      <td>F</td>\n",
       "      <td>NORMAL</td>\n",
       "      <td>HIGH</td>\n",
       "      <td>8.607</td>\n",
       "      <td>drugX</td>\n",
       "    </tr>\n",
       "    <tr>\n",
       "      <th>6</th>\n",
       "      <td>49</td>\n",
       "      <td>F</td>\n",
       "      <td>NORMAL</td>\n",
       "      <td>HIGH</td>\n",
       "      <td>16.275</td>\n",
       "      <td>drugY</td>\n",
       "    </tr>\n",
       "    <tr>\n",
       "      <th>7</th>\n",
       "      <td>41</td>\n",
       "      <td>M</td>\n",
       "      <td>LOW</td>\n",
       "      <td>HIGH</td>\n",
       "      <td>11.037</td>\n",
       "      <td>drugC</td>\n",
       "    </tr>\n",
       "    <tr>\n",
       "      <th>8</th>\n",
       "      <td>60</td>\n",
       "      <td>M</td>\n",
       "      <td>NORMAL</td>\n",
       "      <td>HIGH</td>\n",
       "      <td>15.171</td>\n",
       "      <td>drugY</td>\n",
       "    </tr>\n",
       "    <tr>\n",
       "      <th>9</th>\n",
       "      <td>43</td>\n",
       "      <td>M</td>\n",
       "      <td>LOW</td>\n",
       "      <td>NORMAL</td>\n",
       "      <td>19.368</td>\n",
       "      <td>drugY</td>\n",
       "    </tr>\n",
       "    <tr>\n",
       "      <th>10</th>\n",
       "      <td>47</td>\n",
       "      <td>F</td>\n",
       "      <td>LOW</td>\n",
       "      <td>HIGH</td>\n",
       "      <td>11.767</td>\n",
       "      <td>drugC</td>\n",
       "    </tr>\n",
       "    <tr>\n",
       "      <th>11</th>\n",
       "      <td>34</td>\n",
       "      <td>F</td>\n",
       "      <td>HIGH</td>\n",
       "      <td>NORMAL</td>\n",
       "      <td>19.199</td>\n",
       "      <td>drugY</td>\n",
       "    </tr>\n",
       "    <tr>\n",
       "      <th>12</th>\n",
       "      <td>43</td>\n",
       "      <td>M</td>\n",
       "      <td>LOW</td>\n",
       "      <td>HIGH</td>\n",
       "      <td>15.376</td>\n",
       "      <td>drugY</td>\n",
       "    </tr>\n",
       "    <tr>\n",
       "      <th>13</th>\n",
       "      <td>74</td>\n",
       "      <td>F</td>\n",
       "      <td>LOW</td>\n",
       "      <td>HIGH</td>\n",
       "      <td>20.942</td>\n",
       "      <td>drugY</td>\n",
       "    </tr>\n",
       "    <tr>\n",
       "      <th>14</th>\n",
       "      <td>50</td>\n",
       "      <td>F</td>\n",
       "      <td>NORMAL</td>\n",
       "      <td>HIGH</td>\n",
       "      <td>12.703</td>\n",
       "      <td>drugX</td>\n",
       "    </tr>\n",
       "    <tr>\n",
       "      <th>15</th>\n",
       "      <td>16</td>\n",
       "      <td>F</td>\n",
       "      <td>HIGH</td>\n",
       "      <td>NORMAL</td>\n",
       "      <td>15.516</td>\n",
       "      <td>drugY</td>\n",
       "    </tr>\n",
       "    <tr>\n",
       "      <th>16</th>\n",
       "      <td>69</td>\n",
       "      <td>M</td>\n",
       "      <td>LOW</td>\n",
       "      <td>NORMAL</td>\n",
       "      <td>11.455</td>\n",
       "      <td>drugX</td>\n",
       "    </tr>\n",
       "    <tr>\n",
       "      <th>17</th>\n",
       "      <td>43</td>\n",
       "      <td>M</td>\n",
       "      <td>HIGH</td>\n",
       "      <td>HIGH</td>\n",
       "      <td>13.972</td>\n",
       "      <td>drugA</td>\n",
       "    </tr>\n",
       "    <tr>\n",
       "      <th>18</th>\n",
       "      <td>23</td>\n",
       "      <td>M</td>\n",
       "      <td>LOW</td>\n",
       "      <td>HIGH</td>\n",
       "      <td>7.298</td>\n",
       "      <td>drugC</td>\n",
       "    </tr>\n",
       "    <tr>\n",
       "      <th>19</th>\n",
       "      <td>32</td>\n",
       "      <td>F</td>\n",
       "      <td>HIGH</td>\n",
       "      <td>NORMAL</td>\n",
       "      <td>25.974</td>\n",
       "      <td>drugY</td>\n",
       "    </tr>\n",
       "    <tr>\n",
       "      <th>20</th>\n",
       "      <td>57</td>\n",
       "      <td>M</td>\n",
       "      <td>LOW</td>\n",
       "      <td>NORMAL</td>\n",
       "      <td>19.128</td>\n",
       "      <td>drugY</td>\n",
       "    </tr>\n",
       "    <tr>\n",
       "      <th>21</th>\n",
       "      <td>63</td>\n",
       "      <td>M</td>\n",
       "      <td>NORMAL</td>\n",
       "      <td>HIGH</td>\n",
       "      <td>25.917</td>\n",
       "      <td>drugY</td>\n",
       "    </tr>\n",
       "    <tr>\n",
       "      <th>22</th>\n",
       "      <td>47</td>\n",
       "      <td>M</td>\n",
       "      <td>LOW</td>\n",
       "      <td>NORMAL</td>\n",
       "      <td>30.568</td>\n",
       "      <td>drugY</td>\n",
       "    </tr>\n",
       "    <tr>\n",
       "      <th>23</th>\n",
       "      <td>48</td>\n",
       "      <td>F</td>\n",
       "      <td>LOW</td>\n",
       "      <td>HIGH</td>\n",
       "      <td>15.036</td>\n",
       "      <td>drugY</td>\n",
       "    </tr>\n",
       "    <tr>\n",
       "      <th>24</th>\n",
       "      <td>33</td>\n",
       "      <td>F</td>\n",
       "      <td>LOW</td>\n",
       "      <td>HIGH</td>\n",
       "      <td>33.486</td>\n",
       "      <td>drugY</td>\n",
       "    </tr>\n",
       "    <tr>\n",
       "      <th>25</th>\n",
       "      <td>28</td>\n",
       "      <td>F</td>\n",
       "      <td>HIGH</td>\n",
       "      <td>NORMAL</td>\n",
       "      <td>18.809</td>\n",
       "      <td>drugY</td>\n",
       "    </tr>\n",
       "    <tr>\n",
       "      <th>26</th>\n",
       "      <td>31</td>\n",
       "      <td>M</td>\n",
       "      <td>HIGH</td>\n",
       "      <td>HIGH</td>\n",
       "      <td>30.366</td>\n",
       "      <td>drugY</td>\n",
       "    </tr>\n",
       "    <tr>\n",
       "      <th>27</th>\n",
       "      <td>49</td>\n",
       "      <td>F</td>\n",
       "      <td>NORMAL</td>\n",
       "      <td>NORMAL</td>\n",
       "      <td>9.381</td>\n",
       "      <td>drugX</td>\n",
       "    </tr>\n",
       "    <tr>\n",
       "      <th>28</th>\n",
       "      <td>39</td>\n",
       "      <td>F</td>\n",
       "      <td>LOW</td>\n",
       "      <td>NORMAL</td>\n",
       "      <td>22.697</td>\n",
       "      <td>drugY</td>\n",
       "    </tr>\n",
       "    <tr>\n",
       "      <th>29</th>\n",
       "      <td>45</td>\n",
       "      <td>M</td>\n",
       "      <td>LOW</td>\n",
       "      <td>HIGH</td>\n",
       "      <td>17.951</td>\n",
       "      <td>drugY</td>\n",
       "    </tr>\n",
       "    <tr>\n",
       "      <th>30</th>\n",
       "      <td>18</td>\n",
       "      <td>F</td>\n",
       "      <td>NORMAL</td>\n",
       "      <td>NORMAL</td>\n",
       "      <td>8.750</td>\n",
       "      <td>drugX</td>\n",
       "    </tr>\n",
       "    <tr>\n",
       "      <th>31</th>\n",
       "      <td>74</td>\n",
       "      <td>M</td>\n",
       "      <td>HIGH</td>\n",
       "      <td>HIGH</td>\n",
       "      <td>9.567</td>\n",
       "      <td>drugB</td>\n",
       "    </tr>\n",
       "    <tr>\n",
       "      <th>32</th>\n",
       "      <td>49</td>\n",
       "      <td>M</td>\n",
       "      <td>LOW</td>\n",
       "      <td>NORMAL</td>\n",
       "      <td>11.014</td>\n",
       "      <td>drugX</td>\n",
       "    </tr>\n",
       "    <tr>\n",
       "      <th>33</th>\n",
       "      <td>65</td>\n",
       "      <td>F</td>\n",
       "      <td>HIGH</td>\n",
       "      <td>NORMAL</td>\n",
       "      <td>31.876</td>\n",
       "      <td>drugY</td>\n",
       "    </tr>\n",
       "    <tr>\n",
       "      <th>34</th>\n",
       "      <td>53</td>\n",
       "      <td>M</td>\n",
       "      <td>NORMAL</td>\n",
       "      <td>HIGH</td>\n",
       "      <td>14.133</td>\n",
       "      <td>drugX</td>\n",
       "    </tr>\n",
       "    <tr>\n",
       "      <th>35</th>\n",
       "      <td>46</td>\n",
       "      <td>M</td>\n",
       "      <td>NORMAL</td>\n",
       "      <td>NORMAL</td>\n",
       "      <td>7.285</td>\n",
       "      <td>drugX</td>\n",
       "    </tr>\n",
       "    <tr>\n",
       "      <th>36</th>\n",
       "      <td>32</td>\n",
       "      <td>M</td>\n",
       "      <td>HIGH</td>\n",
       "      <td>NORMAL</td>\n",
       "      <td>9.445</td>\n",
       "      <td>drugA</td>\n",
       "    </tr>\n",
       "    <tr>\n",
       "      <th>37</th>\n",
       "      <td>39</td>\n",
       "      <td>M</td>\n",
       "      <td>LOW</td>\n",
       "      <td>NORMAL</td>\n",
       "      <td>13.938</td>\n",
       "      <td>drugX</td>\n",
       "    </tr>\n",
       "    <tr>\n",
       "      <th>38</th>\n",
       "      <td>39</td>\n",
       "      <td>F</td>\n",
       "      <td>NORMAL</td>\n",
       "      <td>NORMAL</td>\n",
       "      <td>9.709</td>\n",
       "      <td>drugX</td>\n",
       "    </tr>\n",
       "    <tr>\n",
       "      <th>39</th>\n",
       "      <td>15</td>\n",
       "      <td>M</td>\n",
       "      <td>NORMAL</td>\n",
       "      <td>HIGH</td>\n",
       "      <td>9.084</td>\n",
       "      <td>drugX</td>\n",
       "    </tr>\n",
       "    <tr>\n",
       "      <th>40</th>\n",
       "      <td>73</td>\n",
       "      <td>F</td>\n",
       "      <td>NORMAL</td>\n",
       "      <td>HIGH</td>\n",
       "      <td>19.221</td>\n",
       "      <td>drugY</td>\n",
       "    </tr>\n",
       "    <tr>\n",
       "      <th>41</th>\n",
       "      <td>58</td>\n",
       "      <td>F</td>\n",
       "      <td>HIGH</td>\n",
       "      <td>NORMAL</td>\n",
       "      <td>14.239</td>\n",
       "      <td>drugB</td>\n",
       "    </tr>\n",
       "    <tr>\n",
       "      <th>42</th>\n",
       "      <td>50</td>\n",
       "      <td>M</td>\n",
       "      <td>NORMAL</td>\n",
       "      <td>NORMAL</td>\n",
       "      <td>15.790</td>\n",
       "      <td>drugY</td>\n",
       "    </tr>\n",
       "    <tr>\n",
       "      <th>43</th>\n",
       "      <td>23</td>\n",
       "      <td>M</td>\n",
       "      <td>NORMAL</td>\n",
       "      <td>HIGH</td>\n",
       "      <td>12.260</td>\n",
       "      <td>drugX</td>\n",
       "    </tr>\n",
       "    <tr>\n",
       "      <th>44</th>\n",
       "      <td>50</td>\n",
       "      <td>F</td>\n",
       "      <td>NORMAL</td>\n",
       "      <td>NORMAL</td>\n",
       "      <td>12.295</td>\n",
       "      <td>drugX</td>\n",
       "    </tr>\n",
       "    <tr>\n",
       "      <th>45</th>\n",
       "      <td>66</td>\n",
       "      <td>F</td>\n",
       "      <td>NORMAL</td>\n",
       "      <td>NORMAL</td>\n",
       "      <td>8.107</td>\n",
       "      <td>drugX</td>\n",
       "    </tr>\n",
       "    <tr>\n",
       "      <th>46</th>\n",
       "      <td>37</td>\n",
       "      <td>F</td>\n",
       "      <td>HIGH</td>\n",
       "      <td>HIGH</td>\n",
       "      <td>13.091</td>\n",
       "      <td>drugA</td>\n",
       "    </tr>\n",
       "    <tr>\n",
       "      <th>47</th>\n",
       "      <td>68</td>\n",
       "      <td>M</td>\n",
       "      <td>LOW</td>\n",
       "      <td>HIGH</td>\n",
       "      <td>10.291</td>\n",
       "      <td>drugC</td>\n",
       "    </tr>\n",
       "    <tr>\n",
       "      <th>48</th>\n",
       "      <td>23</td>\n",
       "      <td>M</td>\n",
       "      <td>NORMAL</td>\n",
       "      <td>HIGH</td>\n",
       "      <td>31.686</td>\n",
       "      <td>drugY</td>\n",
       "    </tr>\n",
       "    <tr>\n",
       "      <th>49</th>\n",
       "      <td>28</td>\n",
       "      <td>F</td>\n",
       "      <td>LOW</td>\n",
       "      <td>HIGH</td>\n",
       "      <td>19.796</td>\n",
       "      <td>drugY</td>\n",
       "    </tr>\n",
       "  </tbody>\n",
       "</table>\n",
       "</div>"
      ],
      "text/plain": [
       "    Age Sex      BP Cholesterol  Na_to_K   Drug\n",
       "0    23   F    HIGH        HIGH   25.355  drugY\n",
       "1    47   M     LOW        HIGH   13.093  drugC\n",
       "2    47   M     LOW        HIGH   10.114  drugC\n",
       "3    28   F  NORMAL        HIGH    7.798  drugX\n",
       "4    61   F     LOW        HIGH   18.043  drugY\n",
       "5    22   F  NORMAL        HIGH    8.607  drugX\n",
       "6    49   F  NORMAL        HIGH   16.275  drugY\n",
       "7    41   M     LOW        HIGH   11.037  drugC\n",
       "8    60   M  NORMAL        HIGH   15.171  drugY\n",
       "9    43   M     LOW      NORMAL   19.368  drugY\n",
       "10   47   F     LOW        HIGH   11.767  drugC\n",
       "11   34   F    HIGH      NORMAL   19.199  drugY\n",
       "12   43   M     LOW        HIGH   15.376  drugY\n",
       "13   74   F     LOW        HIGH   20.942  drugY\n",
       "14   50   F  NORMAL        HIGH   12.703  drugX\n",
       "15   16   F    HIGH      NORMAL   15.516  drugY\n",
       "16   69   M     LOW      NORMAL   11.455  drugX\n",
       "17   43   M    HIGH        HIGH   13.972  drugA\n",
       "18   23   M     LOW        HIGH    7.298  drugC\n",
       "19   32   F    HIGH      NORMAL   25.974  drugY\n",
       "20   57   M     LOW      NORMAL   19.128  drugY\n",
       "21   63   M  NORMAL        HIGH   25.917  drugY\n",
       "22   47   M     LOW      NORMAL   30.568  drugY\n",
       "23   48   F     LOW        HIGH   15.036  drugY\n",
       "24   33   F     LOW        HIGH   33.486  drugY\n",
       "25   28   F    HIGH      NORMAL   18.809  drugY\n",
       "26   31   M    HIGH        HIGH   30.366  drugY\n",
       "27   49   F  NORMAL      NORMAL    9.381  drugX\n",
       "28   39   F     LOW      NORMAL   22.697  drugY\n",
       "29   45   M     LOW        HIGH   17.951  drugY\n",
       "30   18   F  NORMAL      NORMAL    8.750  drugX\n",
       "31   74   M    HIGH        HIGH    9.567  drugB\n",
       "32   49   M     LOW      NORMAL   11.014  drugX\n",
       "33   65   F    HIGH      NORMAL   31.876  drugY\n",
       "34   53   M  NORMAL        HIGH   14.133  drugX\n",
       "35   46   M  NORMAL      NORMAL    7.285  drugX\n",
       "36   32   M    HIGH      NORMAL    9.445  drugA\n",
       "37   39   M     LOW      NORMAL   13.938  drugX\n",
       "38   39   F  NORMAL      NORMAL    9.709  drugX\n",
       "39   15   M  NORMAL        HIGH    9.084  drugX\n",
       "40   73   F  NORMAL        HIGH   19.221  drugY\n",
       "41   58   F    HIGH      NORMAL   14.239  drugB\n",
       "42   50   M  NORMAL      NORMAL   15.790  drugY\n",
       "43   23   M  NORMAL        HIGH   12.260  drugX\n",
       "44   50   F  NORMAL      NORMAL   12.295  drugX\n",
       "45   66   F  NORMAL      NORMAL    8.107  drugX\n",
       "46   37   F    HIGH        HIGH   13.091  drugA\n",
       "47   68   M     LOW        HIGH   10.291  drugC\n",
       "48   23   M  NORMAL        HIGH   31.686  drugY\n",
       "49   28   F     LOW        HIGH   19.796  drugY"
      ]
     },
     "execution_count": 23,
     "metadata": {},
     "output_type": "execute_result"
    }
   ],
   "source": [
    "my_data = pd.read_csv(\"E:\\My Documents\\Machine Learning\\DataSets/drug200.csv\")\n",
    "my_data.head(50)"
   ]
  },
  {
   "cell_type": "markdown",
   "metadata": {},
   "source": [
    "<div href=\"pre-processing\">\n",
    "    <h2>Pre-processing</h2>\n",
    "</div>\n"
   ]
  },
  {
   "cell_type": "markdown",
   "metadata": {
    "button": false,
    "new_sheet": false,
    "run_control": {
     "read_only": false
    }
   },
   "source": [
    "Using <b>my_data</b> as the Drug.csv data read by pandas, declare the following variables: <br>\n",
    "\n",
    "<ul>\n",
    "    <li> <b> X </b> as the <b> Feature Matrix </b> (data of my_data) </li>\n",
    "    <li> <b> y </b> as the <b> response vector (target) </b> </li>\n",
    "</ul>\n"
   ]
  },
  {
   "cell_type": "markdown",
   "metadata": {
    "button": false,
    "new_sheet": false,
    "run_control": {
     "read_only": false
    }
   },
   "source": [
    "Remove the column containing the target name since it doesn't contain numeric values.\n"
   ]
  },
  {
   "cell_type": "code",
   "execution_count": 5,
   "metadata": {},
   "outputs": [
    {
     "data": {
      "text/plain": [
       "array([[23, 'F', 'HIGH', 'HIGH', 25.355],\n",
       "       [47, 'M', 'LOW', 'HIGH', 13.093],\n",
       "       [47, 'M', 'LOW', 'HIGH', 10.114],\n",
       "       [28, 'F', 'NORMAL', 'HIGH', 7.798],\n",
       "       [61, 'F', 'LOW', 'HIGH', 18.043]], dtype=object)"
      ]
     },
     "execution_count": 5,
     "metadata": {},
     "output_type": "execute_result"
    }
   ],
   "source": [
    "X = my_data[['Age', 'Sex', 'BP', 'Cholesterol', 'Na_to_K']].values #independent variable \n",
    "X[0:5]\n"
   ]
  },
  {
   "cell_type": "markdown",
   "metadata": {},
   "source": [
    "As you may figure out, some features in this dataset are categorical such as **Sex** or **BP**. Unfortunately, Sklearn Decision Trees do not handle categorical variables. But still we can convert these features to numerical values. **pandas.get_dummies()**\n",
    "Convert categorical variable into dummy/indicator variables.\n"
   ]
  },
  {
   "cell_type": "code",
   "execution_count": 8,
   "metadata": {},
   "outputs": [
    {
     "data": {
      "text/plain": [
       "array([[23, 0, 0, 0, 25.355],\n",
       "       [47, 1, 1, 0, 13.093],\n",
       "       [47, 1, 1, 0, 10.114],\n",
       "       [28, 0, 2, 0, 7.798],\n",
       "       [61, 0, 1, 0, 18.043]], dtype=object)"
      ]
     },
     "execution_count": 8,
     "metadata": {},
     "output_type": "execute_result"
    }
   ],
   "source": [
    "from sklearn import preprocessing\n",
    "le_gender = preprocessing.LabelEncoder()\n",
    "le_gender.fit(['F','M'])\n",
    "X[:,1] = le_gender.transform(X[:,1])  #I AM UPDATING MY FIRST COLUMN FROM F,M TO 0,1\n",
    "\n",
    "\n",
    "le_BP = preprocessing.LabelEncoder()\n",
    "le_BP.fit([ 'LOW', 'NORMAL', 'HIGH'])\n",
    "X[:,2] = le_BP.transform(X[:,2]) #I AM UPDATING MY SECOND COLUMN FROM HIGH,LOW,NORMAL TO 0,1,2\n",
    "\n",
    "\n",
    "le_Chol = preprocessing.LabelEncoder()\n",
    "le_Chol.fit([ 'NORMAL', 'HIGH'])\n",
    "X[:,3] = le_Chol.transform(X[:,3]) #I AM UPDATING MY SECOND COLUMN FROM HIGH,NORMAL TO 0,1\n",
    "\n",
    "X[0:5]\n"
   ]
  },
  {
   "cell_type": "markdown",
   "metadata": {},
   "source": [
    "Now we can fill the target variable.\n"
   ]
  },
  {
   "cell_type": "code",
   "execution_count": 10,
   "metadata": {
    "button": false,
    "new_sheet": false,
    "run_control": {
     "read_only": false
    }
   },
   "outputs": [
    {
     "data": {
      "text/plain": [
       "0    drugY\n",
       "1    drugC\n",
       "2    drugC\n",
       "3    drugX\n",
       "4    drugY\n",
       "Name: Drug, dtype: object"
      ]
     },
     "execution_count": 10,
     "metadata": {},
     "output_type": "execute_result"
    }
   ],
   "source": [
    "y = my_data[\"Drug\"] #DEPENDENT VARIABLE\n",
    "y[0:5]"
   ]
  },
  {
   "cell_type": "markdown",
   "metadata": {
    "button": false,
    "new_sheet": false,
    "run_control": {
     "read_only": false
    }
   },
   "source": [
    "<hr>\n",
    "\n",
    "<div id=\"setting_up_tree\">\n",
    "    <h2>Setting up the Decision Tree</h2>\n",
    "    We will be using <b>train/test split</b> on our <b>decision tree</b>. Let's import <b>train_test_split</b> from <b>sklearn.cross_validation</b>.\n",
    "</div>\n"
   ]
  },
  {
   "cell_type": "code",
   "execution_count": 12,
   "metadata": {
    "button": false,
    "new_sheet": false,
    "run_control": {
     "read_only": false
    }
   },
   "outputs": [],
   "source": [
    "\n",
    "from sklearn.model_selection import train_test_split"
   ]
  },
  {
   "cell_type": "markdown",
   "metadata": {
    "button": false,
    "new_sheet": false,
    "run_control": {
     "read_only": false
    }
   },
   "source": [
    "Now <b> train_test_split </b> will return 4 different parameters. We will name them:<br>\n",
    "X_trainset, X_testset, y_trainset, y_testset <br> <br>\n",
    "The <b> train_test_split </b> will need the parameters: <br>\n",
    "X, y, test_size=0.3, and random_state=3. <br> <br>\n",
    "The <b>X</b> and <b>y</b> are the arrays required before the split, the <b>test_size</b> represents the ratio of the testing dataset, and the <b>random_state</b> ensures that we obtain the same splits.\n"
   ]
  },
  {
   "cell_type": "code",
   "execution_count": 13,
   "metadata": {
    "button": false,
    "new_sheet": false,
    "run_control": {
     "read_only": false
    }
   },
   "outputs": [],
   "source": [
    "X_trainset, X_testset, y_trainset, y_testset = train_test_split(X, y, test_size=0.3, random_state=3)"
   ]
  },
  {
   "cell_type": "code",
   "execution_count": null,
   "metadata": {},
   "outputs": [],
   "source": []
  },
  {
   "cell_type": "markdown",
   "metadata": {
    "button": false,
    "new_sheet": false,
    "run_control": {
     "read_only": false
    }
   },
   "source": [
    "<hr>\n",
    "\n",
    "<div id=\"modeling\">\n",
    "    <h2>Modeling</h2>\n",
    "    We will first create an instance of the <b>DecisionTreeClassifier</b> called <b>drugTree</b>.<br>\n",
    "    Inside of the classifier, specify <i> criterion=\"entropy\" </i> so we can see the information gain of each node.\n",
    "</div>\n"
   ]
  },
  {
   "cell_type": "code",
   "execution_count": 14,
   "metadata": {
    "button": false,
    "new_sheet": false,
    "run_control": {
     "read_only": false
    }
   },
   "outputs": [
    {
     "data": {
      "text/plain": [
       "DecisionTreeClassifier(criterion='entropy', max_depth=4)"
      ]
     },
     "execution_count": 14,
     "metadata": {},
     "output_type": "execute_result"
    }
   ],
   "source": [
    "drugTree = DecisionTreeClassifier(criterion=\"entropy\", max_depth = 4)\n",
    "drugTree # it shows the default parameters"
   ]
  },
  {
   "cell_type": "markdown",
   "metadata": {
    "button": false,
    "new_sheet": false,
    "run_control": {
     "read_only": false
    }
   },
   "source": [
    "Next, we will fit the data with the training feature matrix <b> X_trainset </b> and training  response vector <b> y_trainset </b>\n"
   ]
  },
  {
   "cell_type": "code",
   "execution_count": 15,
   "metadata": {
    "button": false,
    "new_sheet": false,
    "run_control": {
     "read_only": false
    }
   },
   "outputs": [
    {
     "data": {
      "text/plain": [
       "DecisionTreeClassifier(criterion='entropy', max_depth=4)"
      ]
     },
     "execution_count": 15,
     "metadata": {},
     "output_type": "execute_result"
    }
   ],
   "source": [
    "drugTree.fit(X_trainset,y_trainset)"
   ]
  },
  {
   "cell_type": "markdown",
   "metadata": {
    "button": false,
    "new_sheet": false,
    "run_control": {
     "read_only": false
    }
   },
   "source": [
    "<hr>\n",
    "\n",
    "<div id=\"prediction\">\n",
    "    <h2>Prediction</h2>\n",
    "    Let's make some <b>predictions</b> on the testing dataset and store it into a variable called <b>predTree</b>.\n",
    "</div>\n"
   ]
  },
  {
   "cell_type": "code",
   "execution_count": 17,
   "metadata": {
    "button": false,
    "new_sheet": false,
    "run_control": {
     "read_only": false
    }
   },
   "outputs": [],
   "source": [
    "y_pred = drugTree.predict(X_testset)"
   ]
  },
  {
   "cell_type": "code",
   "execution_count": 18,
   "metadata": {},
   "outputs": [
    {
     "data": {
      "text/plain": [
       "array(['drugY'], dtype=object)"
      ]
     },
     "execution_count": 18,
     "metadata": {},
     "output_type": "execute_result"
    }
   ],
   "source": []
  },
  {
   "cell_type": "markdown",
   "metadata": {
    "button": false,
    "new_sheet": false,
    "run_control": {
     "read_only": false
    }
   },
   "source": [
    "You can print out <b>predTree</b> and <b>y_testset</b> if you want to visually compare the prediction to the actual values.\n"
   ]
  },
  {
   "cell_type": "code",
   "execution_count": 18,
   "metadata": {
    "button": false,
    "new_sheet": false,
    "run_control": {
     "read_only": false
    },
    "scrolled": true
   },
   "outputs": [
    {
     "name": "stdout",
     "output_type": "stream",
     "text": [
      "['drugY' 'drugX' 'drugX' 'drugX' 'drugX']\n",
      "40     drugY\n",
      "51     drugX\n",
      "139    drugX\n",
      "197    drugX\n",
      "170    drugX\n",
      "Name: Drug, dtype: object\n"
     ]
    }
   ],
   "source": [
    "print (y_pred [0:5])#predicted by the ml model\n",
    "print (y_testset [0:5])#actual values we have\n"
   ]
  },
  {
   "cell_type": "code",
   "execution_count": 19,
   "metadata": {},
   "outputs": [
    {
     "data": {
      "text/plain": [
       "40     drugY\n",
       "51     drugX\n",
       "139    drugX\n",
       "197    drugX\n",
       "170    drugX\n",
       "82     drugC\n",
       "183    drugY\n",
       "46     drugA\n",
       "70     drugB\n",
       "100    drugA\n",
       "179    drugY\n",
       "83     drugA\n",
       "25     drugY\n",
       "190    drugY\n",
       "159    drugX\n",
       "173    drugY\n",
       "95     drugX\n",
       "3      drugX\n",
       "41     drugB\n",
       "58     drugX\n",
       "14     drugX\n",
       "143    drugY\n",
       "12     drugY\n",
       "6      drugY\n",
       "182    drugX\n",
       "161    drugB\n",
       "128    drugY\n",
       "122    drugY\n",
       "101    drugA\n",
       "86     drugX\n",
       "64     drugB\n",
       "47     drugC\n",
       "158    drugC\n",
       "34     drugX\n",
       "38     drugX\n",
       "196    drugC\n",
       "4      drugY\n",
       "72     drugX\n",
       "67     drugX\n",
       "145    drugX\n",
       "156    drugA\n",
       "115    drugY\n",
       "155    drugC\n",
       "15     drugY\n",
       "61     drugA\n",
       "175    drugY\n",
       "120    drugY\n",
       "130    drugY\n",
       "23     drugY\n",
       "153    drugX\n",
       "31     drugB\n",
       "103    drugX\n",
       "89     drugY\n",
       "132    drugX\n",
       "109    drugY\n",
       "126    drugY\n",
       "17     drugA\n",
       "30     drugX\n",
       "178    drugY\n",
       "162    drugX\n",
       "Name: Drug, dtype: object"
      ]
     },
     "execution_count": 19,
     "metadata": {},
     "output_type": "execute_result"
    }
   ],
   "source": [
    "y_testset"
   ]
  },
  {
   "cell_type": "markdown",
   "metadata": {
    "button": false,
    "new_sheet": false,
    "run_control": {
     "read_only": false
    }
   },
   "source": [
    "<hr>\n",
    "\n",
    "<div id=\"evaluation\">\n",
    "    <h2>Evaluation</h2>\n",
    "    Next, let's import <b>metrics</b> from sklearn and check the accuracy of our model.\n",
    "</div>\n"
   ]
  },
  {
   "cell_type": "code",
   "execution_count": 20,
   "metadata": {
    "button": false,
    "new_sheet": false,
    "run_control": {
     "read_only": false
    }
   },
   "outputs": [
    {
     "name": "stdout",
     "output_type": "stream",
     "text": [
      "DecisionTrees's Accuracy:  0.9833333333333333\n"
     ]
    }
   ],
   "source": [
    "from sklearn import metrics\n",
    "print(\"DecisionTrees's Accuracy: \", metrics.accuracy_score(y_testset, y_pred))"
   ]
  },
  {
   "cell_type": "markdown",
   "metadata": {
    "button": false,
    "new_sheet": false,
    "run_control": {
     "read_only": false
    }
   },
   "source": [
    "**Accuracy classification score** computes subset accuracy: the set of labels predicted for a sample must exactly match the corresponding set of labels in y_true.  \n",
    "\n",
    "In multilabel classification, the function returns the subset accuracy. If the entire set of predicted labels for a sample strictly match with the true set of labels, then the subset accuracy is 1.0; otherwise it is 0.0.\n"
   ]
  },
  {
   "cell_type": "code",
   "execution_count": 24,
   "metadata": {},
   "outputs": [
    {
     "data": {
      "text/html": [
       "<div>\n",
       "<style scoped>\n",
       "    .dataframe tbody tr th:only-of-type {\n",
       "        vertical-align: middle;\n",
       "    }\n",
       "\n",
       "    .dataframe tbody tr th {\n",
       "        vertical-align: top;\n",
       "    }\n",
       "\n",
       "    .dataframe thead th {\n",
       "        text-align: right;\n",
       "    }\n",
       "</style>\n",
       "<table border=\"1\" class=\"dataframe\">\n",
       "  <thead>\n",
       "    <tr style=\"text-align: right;\">\n",
       "      <th></th>\n",
       "      <th>Age</th>\n",
       "      <th>Sex</th>\n",
       "      <th>BP</th>\n",
       "      <th>Cholesterol</th>\n",
       "      <th>Na_to_K</th>\n",
       "      <th>Drug</th>\n",
       "    </tr>\n",
       "  </thead>\n",
       "  <tbody>\n",
       "    <tr>\n",
       "      <th>0</th>\n",
       "      <td>23</td>\n",
       "      <td>F</td>\n",
       "      <td>HIGH</td>\n",
       "      <td>HIGH</td>\n",
       "      <td>25.355</td>\n",
       "      <td>drugY</td>\n",
       "    </tr>\n",
       "    <tr>\n",
       "      <th>1</th>\n",
       "      <td>47</td>\n",
       "      <td>M</td>\n",
       "      <td>LOW</td>\n",
       "      <td>HIGH</td>\n",
       "      <td>13.093</td>\n",
       "      <td>drugC</td>\n",
       "    </tr>\n",
       "  </tbody>\n",
       "</table>\n",
       "</div>"
      ],
      "text/plain": [
       "   Age Sex    BP Cholesterol  Na_to_K   Drug\n",
       "0   23   F  HIGH        HIGH   25.355  drugY\n",
       "1   47   M   LOW        HIGH   13.093  drugC"
      ]
     },
     "execution_count": 24,
     "metadata": {},
     "output_type": "execute_result"
    }
   ],
   "source": [
    "my_data.head(2)"
   ]
  },
  {
   "cell_type": "code",
   "execution_count": 25,
   "metadata": {
    "button": false,
    "new_sheet": false,
    "run_control": {
     "read_only": false
    }
   },
   "outputs": [
    {
     "data": {
      "text/plain": [
       "array(['drugY'], dtype=object)"
      ]
     },
     "execution_count": 25,
     "metadata": {},
     "output_type": "execute_result"
    }
   ],
   "source": [
    "drugTree.predict([[35,0,1,0,15.0]])"
   ]
  },
  {
   "cell_type": "code",
   "execution_count": 26,
   "metadata": {},
   "outputs": [
    {
     "data": {
      "text/plain": [
       "38.247"
      ]
     },
     "execution_count": 26,
     "metadata": {},
     "output_type": "execute_result"
    }
   ],
   "source": [
    "max(my_data['Na_to_K'])"
   ]
  },
  {
   "cell_type": "code",
   "execution_count": 27,
   "metadata": {},
   "outputs": [
    {
     "data": {
      "text/plain": [
       "6.269"
      ]
     },
     "execution_count": 27,
     "metadata": {},
     "output_type": "execute_result"
    }
   ],
   "source": [
    "min(my_data['Na_to_K'])"
   ]
  },
  {
   "cell_type": "code",
   "execution_count": 35,
   "metadata": {},
   "outputs": [
    {
     "data": {
      "text/html": [
       "<div>\n",
       "<style scoped>\n",
       "    .dataframe tbody tr th:only-of-type {\n",
       "        vertical-align: middle;\n",
       "    }\n",
       "\n",
       "    .dataframe tbody tr th {\n",
       "        vertical-align: top;\n",
       "    }\n",
       "\n",
       "    .dataframe thead th {\n",
       "        text-align: right;\n",
       "    }\n",
       "</style>\n",
       "<table border=\"1\" class=\"dataframe\">\n",
       "  <thead>\n",
       "    <tr style=\"text-align: right;\">\n",
       "      <th></th>\n",
       "      <th>Age</th>\n",
       "      <th>Sex</th>\n",
       "      <th>BP</th>\n",
       "      <th>Cholesterol</th>\n",
       "      <th>Na_to_K</th>\n",
       "      <th>Drug</th>\n",
       "    </tr>\n",
       "  </thead>\n",
       "  <tbody>\n",
       "    <tr>\n",
       "      <th>0</th>\n",
       "      <td>23</td>\n",
       "      <td>F</td>\n",
       "      <td>HIGH</td>\n",
       "      <td>HIGH</td>\n",
       "      <td>25.355</td>\n",
       "      <td>drugY</td>\n",
       "    </tr>\n",
       "    <tr>\n",
       "      <th>1</th>\n",
       "      <td>47</td>\n",
       "      <td>M</td>\n",
       "      <td>LOW</td>\n",
       "      <td>HIGH</td>\n",
       "      <td>13.093</td>\n",
       "      <td>drugC</td>\n",
       "    </tr>\n",
       "  </tbody>\n",
       "</table>\n",
       "</div>"
      ],
      "text/plain": [
       "   Age Sex    BP Cholesterol  Na_to_K   Drug\n",
       "0   23   F  HIGH        HIGH   25.355  drugY\n",
       "1   47   M   LOW        HIGH   13.093  drugC"
      ]
     },
     "execution_count": 35,
     "metadata": {},
     "output_type": "execute_result"
    }
   ],
   "source": [
    "my_data.head(2)"
   ]
  },
  {
   "cell_type": "code",
   "execution_count": 29,
   "metadata": {
    "button": false,
    "new_sheet": false,
    "run_control": {
     "read_only": false
    }
   },
   "outputs": [
    {
     "name": "stdout",
     "output_type": "stream",
     "text": [
      "enter the number of patients data we need to check--->2\n",
      "enter the age--->35\n",
      "enter the gender 0 for female 1 for male-->1\n",
      "enter the Bp 0 for high 1 for low 2 for normal-->2\n",
      "enter the chelosterol 0 for high 1 for normal-->0\n",
      "enter Na_to_K value 5-40--->24\n",
      "enter the age--->40\n",
      "enter the gender 0 for female 1 for male-->0\n",
      "enter the Bp 0 for high 1 for low 2 for normal-->1\n",
      "enter the chelosterol 0 for high 1 for normal-->1\n",
      "enter Na_to_K value 5-40--->20\n",
      "[{'age': 35, 'gender': 1, 'Bp': 2, 'Cholesterol': 0, 'Na_to_K': 24.0, 'prediction': array(['drugY'], dtype=object)}, {'age': 40, 'gender': 0, 'Bp': 1, 'Cholesterol': 1, 'Na_to_K': 20.0, 'prediction': array(['drugY'], dtype=object)}]\n"
     ]
    }
   ],
   "source": [
    "n = int(input(\"enter the number of patients data we need to check--->\"))\n",
    "lst = []\n",
    "for i in range(n):\n",
    "    age = int(input(\"enter the age--->\"))\n",
    "    gender = int(input(\"enter the gender 0 for female 1 for male-->\"))\n",
    "    Bp = int(input(\"enter the Bp 0 for high 1 for low 2 for normal-->\"))\n",
    "    Cholesterol = int(input(\"enter the chelosterol 0 for high 1 for normal-->\"))\n",
    "    Na_to_K = float(input(\"enter Na_to_K value 5-40--->\"))\n",
    "    data = {}\n",
    "    data['age'] = age\n",
    "    data['gender'] = gender\n",
    "    data['Bp'] = Bp\n",
    "    data['Cholesterol'] = Cholesterol\n",
    "    data['Na_to_K'] = Na_to_K\n",
    "    prediction = drugTree.predict([[age,gender,Bp,Cholesterol,Na_to_K]])\n",
    "    data['prediction'] = prediction\n",
    "    lst.append(data)\n",
    "    \n",
    "print(lst)"
   ]
  },
  {
   "cell_type": "code",
   "execution_count": 30,
   "metadata": {},
   "outputs": [],
   "source": [
    "dct = {}"
   ]
  },
  {
   "cell_type": "code",
   "execution_count": 36,
   "metadata": {},
   "outputs": [
    {
     "data": {
      "text/plain": [
       "array(['drugY', 'drugX', 'drugC', 'drugA', 'drugB'], dtype=object)"
      ]
     },
     "execution_count": 36,
     "metadata": {},
     "output_type": "execute_result"
    }
   ],
   "source": [
    "y_testset.unique()"
   ]
  },
  {
   "cell_type": "code",
   "execution_count": 48,
   "metadata": {},
   "outputs": [
    {
     "data": {
      "text/plain": [
       "array([4, 3, 3, 3, 3])"
      ]
     },
     "execution_count": 48,
     "metadata": {},
     "output_type": "execute_result"
    }
   ],
   "source": [
    "y_testset[:5]"
   ]
  },
  {
   "cell_type": "code",
   "execution_count": 38,
   "metadata": {},
   "outputs": [],
   "source": [
    "le_Drug = preprocessing.LabelEncoder()\n",
    "le_Drug.fit(['drugY', 'drugX', 'drugC', 'drugA', 'drugB'])\n",
    "y_testset = le_Drug.transform(y_testset) "
   ]
  },
  {
   "cell_type": "code",
   "execution_count": 39,
   "metadata": {},
   "outputs": [
    {
     "data": {
      "text/plain": [
       "array([4, 3, 3, 3, 3, 2, 4, 0, 1, 0, 4, 0, 4, 4, 3, 4, 3, 3, 1, 3, 3, 4,\n",
       "       4, 4, 3, 1, 4, 4, 0, 3, 1, 2, 2, 3, 3, 2, 4, 3, 3, 3, 0, 4, 2, 4,\n",
       "       0, 4, 4, 4, 4, 3, 1, 3, 4, 3, 4, 4, 0, 3, 4, 3])"
      ]
     },
     "execution_count": 39,
     "metadata": {},
     "output_type": "execute_result"
    }
   ],
   "source": [
    "y_testset"
   ]
  },
  {
   "cell_type": "code",
   "execution_count": 42,
   "metadata": {},
   "outputs": [
    {
     "data": {
      "text/plain": [
       "array([19.221, 10.898, 10.065, 9.894, 12.879, 9.712, 15.49, 13.091,\n",
       "       13.967, 11.871, 15.891, 11.326, 18.809, 18.991, 12.923, 18.739,\n",
       "       11.424, 7.798, 14.239, 10.091, 12.703, 15.436, 15.376, 16.275,\n",
       "       11.686, 9.945, 33.542, 22.456, 12.854, 13.597, 13.303, 10.291,\n",
       "       10.444, 14.133, 9.709, 12.006, 18.043, 10.605, 10.832, 9.443,\n",
       "       11.227, 18.295, 10.537, 15.516, 9.475, 18.348, 27.064, 20.489,\n",
       "       15.036, 14.642, 9.567, 8.966, 17.211, 13.598, 16.85, 16.347,\n",
       "       13.972, 8.75, 15.969, 12.859], dtype=object)"
      ]
     },
     "execution_count": 42,
     "metadata": {},
     "output_type": "execute_result"
    }
   ],
   "source": [
    "X_testset[:,-1]"
   ]
  },
  {
   "cell_type": "code",
   "execution_count": 43,
   "metadata": {},
   "outputs": [
    {
     "data": {
      "text/plain": [
       "<matplotlib.collections.PathCollection at 0x2a92d224d90>"
      ]
     },
     "execution_count": 43,
     "metadata": {},
     "output_type": "execute_result"
    },
    {
     "data": {
      "image/png": "[encoded data removed]",
      "text/plain": [
       "<Figure size 432x288 with 1 Axes>"
      ]
     },
     "metadata": {
      "needs_background": "light"
     },
     "output_type": "display_data"
    }
   ],
   "source": [
    "import matplotlib.pyplot as plt\n",
    "plt.scatter(X_testset[:,0],X_testset[:,-1],c = y_testset)"
   ]
  },
  {
   "cell_type": "code",
   "execution_count": 44,
   "metadata": {},
   "outputs": [],
   "source": [
    "le_Drug = preprocessing.LabelEncoder()\n",
    "le_Drug.fit(['drugY', 'drugX', 'drugC', 'drugA', 'drugB'])\n",
    "y_pred = le_Drug.transform(y_pred) "
   ]
  },
  {
   "cell_type": "code",
   "execution_count": 45,
   "metadata": {},
   "outputs": [
    {
     "data": {
      "text/plain": [
       "<matplotlib.collections.PathCollection at 0x2a967a48850>"
      ]
     },
     "execution_count": 45,
     "metadata": {},
     "output_type": "execute_result"
    },
    {
     "data": {
      "image/png": "[encoded data removed]",
      "text/plain": [
       "<Figure size 432x288 with 1 Axes>"
      ]
     },
     "metadata": {
      "needs_background": "light"
     },
     "output_type": "display_data"
    }
   ],
   "source": [
    "plt.scatter(X_testset[:,0],X_testset[:,-1],c = y_pred) #x-axis age,y-axis na_to_k"
   ]
  },
  {
   "cell_type": "code",
   "execution_count": 47,
   "metadata": {},
   "outputs": [
    {
     "data": {
      "text/html": [
       "<div>\n",
       "<style scoped>\n",
       "    .dataframe tbody tr th:only-of-type {\n",
       "        vertical-align: middle;\n",
       "    }\n",
       "\n",
       "    .dataframe tbody tr th {\n",
       "        vertical-align: top;\n",
       "    }\n",
       "\n",
       "    .dataframe thead th {\n",
       "        text-align: right;\n",
       "    }\n",
       "</style>\n",
       "<table border=\"1\" class=\"dataframe\">\n",
       "  <thead>\n",
       "    <tr style=\"text-align: right;\">\n",
       "      <th></th>\n",
       "      <th>Age</th>\n",
       "      <th>Sex</th>\n",
       "      <th>BP</th>\n",
       "      <th>Cholesterol</th>\n",
       "      <th>Na_to_K</th>\n",
       "      <th>Drug</th>\n",
       "    </tr>\n",
       "  </thead>\n",
       "  <tbody>\n",
       "    <tr>\n",
       "      <th>0</th>\n",
       "      <td>23</td>\n",
       "      <td>F</td>\n",
       "      <td>HIGH</td>\n",
       "      <td>HIGH</td>\n",
       "      <td>25.355</td>\n",
       "      <td>drugY</td>\n",
       "    </tr>\n",
       "  </tbody>\n",
       "</table>\n",
       "</div>"
      ],
      "text/plain": [
       "   Age Sex    BP Cholesterol  Na_to_K   Drug\n",
       "0   23   F  HIGH        HIGH   25.355  drugY"
      ]
     },
     "execution_count": 47,
     "metadata": {},
     "output_type": "execute_result"
    }
   ],
   "source": [
    "my_data.head(1)"
   ]
  },
  {
   "cell_type": "code",
   "execution_count": 46,
   "metadata": {},
   "outputs": [
    {
     "data": {
      "text/plain": [
       "array([[23, 0, 0, 0, 25.355],\n",
       "       [47, 1, 1, 0, 13.093],\n",
       "       [47, 1, 1, 0, 10.114],\n",
       "       [28, 0, 2, 0, 7.798],\n",
       "       [61, 0, 1, 0, 18.043],\n",
       "       [22, 0, 2, 0, 8.607],\n",
       "       [49, 0, 2, 0, 16.275],\n",
       "       [41, 1, 1, 0, 11.037],\n",
       "       [60, 1, 2, 0, 15.171],\n",
       "       [43, 1, 1, 1, 19.368],\n",
       "       [47, 0, 1, 0, 11.767],\n",
       "       [34, 0, 0, 1, 19.199],\n",
       "       [43, 1, 1, 0, 15.376],\n",
       "       [74, 0, 1, 0, 20.942],\n",
       "       [50, 0, 2, 0, 12.703],\n",
       "       [16, 0, 0, 1, 15.516],\n",
       "       [69, 1, 1, 1, 11.455],\n",
       "       [43, 1, 0, 0, 13.972],\n",
       "       [23, 1, 1, 0, 7.298],\n",
       "       [32, 0, 0, 1, 25.974],\n",
       "       [57, 1, 1, 1, 19.128],\n",
       "       [63, 1, 2, 0, 25.917],\n",
       "       [47, 1, 1, 1, 30.568],\n",
       "       [48, 0, 1, 0, 15.036],\n",
       "       [33, 0, 1, 0, 33.486],\n",
       "       [28, 0, 0, 1, 18.809],\n",
       "       [31, 1, 0, 0, 30.366],\n",
       "       [49, 0, 2, 1, 9.381],\n",
       "       [39, 0, 1, 1, 22.697],\n",
       "       [45, 1, 1, 0, 17.951],\n",
       "       [18, 0, 2, 1, 8.75],\n",
       "       [74, 1, 0, 0, 9.567],\n",
       "       [49, 1, 1, 1, 11.014],\n",
       "       [65, 0, 0, 1, 31.876],\n",
       "       [53, 1, 2, 0, 14.133],\n",
       "       [46, 1, 2, 1, 7.285],\n",
       "       [32, 1, 0, 1, 9.445],\n",
       "       [39, 1, 1, 1, 13.938],\n",
       "       [39, 0, 2, 1, 9.709],\n",
       "       [15, 1, 2, 0, 9.084],\n",
       "       [73, 0, 2, 0, 19.221],\n",
       "       [58, 0, 0, 1, 14.239],\n",
       "       [50, 1, 2, 1, 15.79],\n",
       "       [23, 1, 2, 0, 12.26],\n",
       "       [50, 0, 2, 1, 12.295],\n",
       "       [66, 0, 2, 1, 8.107],\n",
       "       [37, 0, 0, 0, 13.091],\n",
       "       [68, 1, 1, 0, 10.291],\n",
       "       [23, 1, 2, 0, 31.686],\n",
       "       [28, 0, 1, 0, 19.796],\n",
       "       [58, 0, 0, 0, 19.416],\n",
       "       [67, 1, 2, 1, 10.898],\n",
       "       [62, 1, 1, 1, 27.183],\n",
       "       [24, 0, 0, 1, 18.457],\n",
       "       [68, 0, 0, 1, 10.189],\n",
       "       [26, 0, 1, 0, 14.16],\n",
       "       [65, 1, 0, 1, 11.34],\n",
       "       [40, 1, 0, 0, 27.826],\n",
       "       [60, 1, 2, 1, 10.091],\n",
       "       [34, 1, 0, 0, 18.703],\n",
       "       [38, 0, 1, 1, 29.875],\n",
       "       [24, 1, 0, 1, 9.475],\n",
       "       [67, 1, 1, 1, 20.693],\n",
       "       [45, 1, 1, 1, 8.37],\n",
       "       [60, 0, 0, 0, 13.303],\n",
       "       [68, 0, 2, 1, 27.05],\n",
       "       [29, 1, 0, 0, 12.856],\n",
       "       [17, 1, 2, 1, 10.832],\n",
       "       [54, 1, 2, 0, 24.658],\n",
       "       [18, 0, 0, 1, 24.276],\n",
       "       [70, 1, 0, 0, 13.967],\n",
       "       [28, 0, 2, 0, 19.675],\n",
       "       [24, 0, 2, 0, 10.605],\n",
       "       [41, 0, 2, 1, 22.905],\n",
       "       [31, 1, 0, 1, 17.069],\n",
       "       [26, 1, 1, 1, 20.909],\n",
       "       [36, 0, 0, 0, 11.198],\n",
       "       [26, 0, 0, 1, 19.161],\n",
       "       [19, 0, 0, 0, 13.313],\n",
       "       [32, 0, 1, 1, 10.84],\n",
       "       [60, 1, 0, 0, 13.934],\n",
       "       [64, 1, 2, 0, 7.761],\n",
       "       [32, 0, 1, 0, 9.712],\n",
       "       [38, 0, 0, 1, 11.326],\n",
       "       [47, 0, 1, 0, 10.067],\n",
       "       [59, 1, 0, 0, 13.935],\n",
       "       [51, 0, 2, 0, 13.597],\n",
       "       [69, 1, 1, 0, 15.478],\n",
       "       [37, 0, 0, 1, 23.091],\n",
       "       [50, 0, 2, 1, 17.211],\n",
       "       [62, 1, 2, 0, 16.594],\n",
       "       [41, 1, 0, 1, 15.156],\n",
       "       [29, 0, 0, 0, 29.45],\n",
       "       [42, 0, 1, 1, 29.271],\n",
       "       [56, 1, 1, 0, 15.015],\n",
       "       [36, 1, 1, 1, 11.424],\n",
       "       [58, 0, 1, 0, 38.247],\n",
       "       [56, 0, 0, 0, 25.395],\n",
       "       [20, 1, 0, 1, 35.639],\n",
       "       [15, 0, 0, 1, 16.725],\n",
       "       [31, 1, 0, 1, 11.871],\n",
       "       [45, 0, 0, 0, 12.854],\n",
       "       [28, 0, 1, 0, 13.127],\n",
       "       [56, 1, 2, 0, 8.966],\n",
       "       [22, 1, 0, 1, 28.294],\n",
       "       [37, 1, 1, 1, 8.968],\n",
       "       [22, 1, 2, 0, 11.953],\n",
       "       [42, 1, 1, 0, 20.013],\n",
       "       [72, 1, 0, 1, 9.677],\n",
       "       [23, 1, 2, 0, 16.85],\n",
       "       [50, 1, 0, 0, 7.49],\n",
       "       [47, 0, 2, 1, 6.683],\n",
       "       [35, 1, 1, 1, 9.17],\n",
       "       [65, 0, 1, 1, 13.769],\n",
       "       [20, 0, 2, 1, 9.281],\n",
       "       [51, 1, 0, 0, 18.295],\n",
       "       [67, 1, 2, 1, 9.514],\n",
       "       [40, 0, 2, 0, 10.103],\n",
       "       [32, 0, 0, 1, 10.292],\n",
       "       [61, 0, 0, 0, 25.475],\n",
       "       [28, 1, 2, 0, 27.064],\n",
       "       [15, 1, 0, 1, 17.206],\n",
       "       [34, 1, 2, 0, 22.456],\n",
       "       [36, 0, 2, 0, 16.753],\n",
       "       [53, 0, 0, 1, 12.495],\n",
       "       [19, 0, 0, 1, 25.969],\n",
       "       [66, 1, 0, 0, 16.347],\n",
       "       [35, 1, 2, 1, 7.845],\n",
       "       [47, 1, 1, 1, 33.542],\n",
       "       [32, 0, 2, 0, 7.477],\n",
       "       [70, 0, 2, 0, 20.489],\n",
       "       [52, 1, 1, 1, 32.922],\n",
       "       [49, 1, 1, 1, 13.598],\n",
       "       [24, 1, 2, 0, 25.786],\n",
       "       [42, 0, 0, 0, 21.036],\n",
       "       [74, 1, 1, 1, 11.939],\n",
       "       [55, 0, 0, 0, 10.977],\n",
       "       [35, 0, 0, 0, 12.894],\n",
       "       [51, 1, 0, 1, 11.343],\n",
       "       [69, 0, 2, 0, 10.065],\n",
       "       [49, 1, 0, 1, 6.269],\n",
       "       [64, 0, 1, 1, 25.741],\n",
       "       [60, 1, 0, 1, 8.621],\n",
       "       [74, 1, 0, 1, 15.436],\n",
       "       [39, 1, 0, 0, 9.664],\n",
       "       [61, 1, 2, 0, 9.443],\n",
       "       [37, 0, 1, 1, 12.006],\n",
       "       [26, 0, 0, 1, 12.307],\n",
       "       [61, 0, 1, 1, 7.34],\n",
       "       [22, 1, 1, 0, 8.151],\n",
       "       [49, 1, 0, 1, 8.7],\n",
       "       [68, 1, 0, 0, 11.009],\n",
       "       [55, 1, 2, 1, 7.261],\n",
       "       [72, 0, 1, 1, 14.642],\n",
       "       [37, 1, 1, 1, 16.724],\n",
       "       [49, 1, 1, 0, 10.537],\n",
       "       [31, 1, 0, 1, 11.227],\n",
       "       [53, 1, 1, 0, 22.963],\n",
       "       [59, 0, 1, 0, 10.444],\n",
       "       [34, 0, 1, 1, 12.923],\n",
       "       [30, 0, 2, 0, 10.443],\n",
       "       [57, 0, 0, 1, 9.945],\n",
       "       [43, 1, 2, 1, 12.859],\n",
       "       [21, 0, 0, 1, 28.632],\n",
       "       [16, 1, 0, 1, 19.007],\n",
       "       [38, 1, 1, 0, 18.295],\n",
       "       [58, 0, 1, 0, 26.645],\n",
       "       [57, 0, 2, 0, 14.216],\n",
       "       [51, 0, 1, 1, 23.003],\n",
       "       [20, 0, 0, 0, 11.262],\n",
       "       [28, 0, 2, 0, 12.879],\n",
       "       [45, 1, 1, 1, 10.017],\n",
       "       [39, 0, 2, 1, 17.225],\n",
       "       [41, 0, 1, 1, 18.739],\n",
       "       [42, 1, 0, 1, 12.766],\n",
       "       [73, 0, 0, 0, 18.348],\n",
       "       [48, 1, 0, 1, 10.446],\n",
       "       [25, 1, 2, 0, 19.011],\n",
       "       [39, 1, 2, 0, 15.969],\n",
       "       [67, 0, 2, 0, 15.891],\n",
       "       [22, 0, 0, 1, 22.818],\n",
       "       [59, 0, 2, 0, 13.884],\n",
       "       [20, 0, 1, 1, 11.686],\n",
       "       [36, 0, 0, 1, 15.49],\n",
       "       [18, 0, 0, 0, 37.188],\n",
       "       [57, 0, 2, 1, 25.893],\n",
       "       [70, 1, 0, 0, 9.849],\n",
       "       [47, 1, 0, 0, 10.403],\n",
       "       [65, 1, 0, 1, 34.997],\n",
       "       [64, 1, 0, 1, 20.932],\n",
       "       [58, 1, 0, 0, 18.991],\n",
       "       [23, 1, 0, 0, 8.011],\n",
       "       [72, 1, 1, 0, 16.31],\n",
       "       [72, 1, 1, 0, 6.769],\n",
       "       [46, 0, 0, 0, 34.686],\n",
       "       [56, 0, 1, 0, 11.567],\n",
       "       [16, 1, 1, 0, 12.006],\n",
       "       [52, 1, 2, 0, 9.894],\n",
       "       [23, 1, 2, 1, 14.02],\n",
       "       [40, 0, 1, 1, 11.349]], dtype=object)"
      ]
     },
     "execution_count": 46,
     "metadata": {},
     "output_type": "execute_result"
    }
   ],
   "source": [
    "X"
   ]
  },
  {
   "cell_type": "code",
   "execution_count": null,
   "metadata": {},
   "outputs": [],
   "source": []
  }
 ],
 "metadata": {
  "anaconda-cloud": {},
  "kernelspec": {
   "display_name": "Python 3 (ipykernel)",
   "language": "python",
   "name": "python3"
  },
  "language_info": {
   "codemirror_mode": {
    "name": "ipython",
    "version": 3
   },
   "file_extension": ".py",
   "mimetype": "text/x-python",
   "name": "python",
   "nbconvert_exporter": "python",
   "pygments_lexer": "ipython3",
   "version": "3.9.7"
  },
  "widgets": {
   "state": {},
   "version": "1.1.2"
  }
 },
 "nbformat": 4,
 "nbformat_minor": 2
}
