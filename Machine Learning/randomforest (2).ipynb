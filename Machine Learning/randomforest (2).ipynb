{
 "cells": [
  {
   "cell_type": "code",
   "execution_count": 1,
   "metadata": {},
   "outputs": [],
   "source": [
    "# Importing the libraries\n",
    "\n",
    "import numpy as np\n",
    "import pandas as pd"
   ]
  },
  {
   "cell_type": "code",
   "execution_count": 2,
   "metadata": {},
   "outputs": [],
   "source": [
    "# Importing the datasets\n",
    "datasets = pd.read_csv(\"E:\\My Documents\\Machine Learning\\DataSets/Social_Network_Ads.csv\")\n"
   ]
  },
  {
   "cell_type": "code",
   "execution_count": 4,
   "metadata": {},
   "outputs": [
    {
     "data": {
      "text/html": [
       "<div>\n",
       "<style scoped>\n",
       "    .dataframe tbody tr th:only-of-type {\n",
       "        vertical-align: middle;\n",
       "    }\n",
       "\n",
       "    .dataframe tbody tr th {\n",
       "        vertical-align: top;\n",
       "    }\n",
       "\n",
       "    .dataframe thead th {\n",
       "        text-align: right;\n",
       "    }\n",
       "</style>\n",
       "<table border=\"1\" class=\"dataframe\">\n",
       "  <thead>\n",
       "    <tr style=\"text-align: right;\">\n",
       "      <th></th>\n",
       "      <th>User ID</th>\n",
       "      <th>Gender</th>\n",
       "      <th>Age</th>\n",
       "      <th>EstimatedSalary</th>\n",
       "      <th>Purchased</th>\n",
       "    </tr>\n",
       "  </thead>\n",
       "  <tbody>\n",
       "    <tr>\n",
       "      <th>0</th>\n",
       "      <td>15624510</td>\n",
       "      <td>Male</td>\n",
       "      <td>19</td>\n",
       "      <td>19000</td>\n",
       "      <td>0</td>\n",
       "    </tr>\n",
       "    <tr>\n",
       "      <th>1</th>\n",
       "      <td>15810944</td>\n",
       "      <td>Male</td>\n",
       "      <td>35</td>\n",
       "      <td>20000</td>\n",
       "      <td>0</td>\n",
       "    </tr>\n",
       "    <tr>\n",
       "      <th>2</th>\n",
       "      <td>15668575</td>\n",
       "      <td>Female</td>\n",
       "      <td>26</td>\n",
       "      <td>43000</td>\n",
       "      <td>0</td>\n",
       "    </tr>\n",
       "    <tr>\n",
       "      <th>3</th>\n",
       "      <td>15603246</td>\n",
       "      <td>Female</td>\n",
       "      <td>27</td>\n",
       "      <td>57000</td>\n",
       "      <td>0</td>\n",
       "    </tr>\n",
       "    <tr>\n",
       "      <th>4</th>\n",
       "      <td>15804002</td>\n",
       "      <td>Male</td>\n",
       "      <td>19</td>\n",
       "      <td>76000</td>\n",
       "      <td>0</td>\n",
       "    </tr>\n",
       "  </tbody>\n",
       "</table>\n",
       "</div>"
      ],
      "text/plain": [
       "    User ID  Gender  Age  EstimatedSalary  Purchased\n",
       "0  15624510    Male   19            19000          0\n",
       "1  15810944    Male   35            20000          0\n",
       "2  15668575  Female   26            43000          0\n",
       "3  15603246  Female   27            57000          0\n",
       "4  15804002    Male   19            76000          0"
      ]
     },
     "execution_count": 4,
     "metadata": {},
     "output_type": "execute_result"
    }
   ],
   "source": [
    "\n",
    "datasets.head()"
   ]
  },
  {
   "cell_type": "code",
   "execution_count": 6,
   "metadata": {},
   "outputs": [],
   "source": [
    "X = datasets.iloc[:, [2,3]].values#iindependent variable\n"
   ]
  },
  {
   "cell_type": "code",
   "execution_count": 8,
   "metadata": {},
   "outputs": [
    {
     "data": {
      "text/plain": [
       "array([[   19, 19000],\n",
       "       [   35, 20000],\n",
       "       [   26, 43000],\n",
       "       [   27, 57000],\n",
       "       [   19, 76000]], dtype=int64)"
      ]
     },
     "execution_count": 8,
     "metadata": {},
     "output_type": "execute_result"
    }
   ],
   "source": [
    "X[0:5] #independent variable"
   ]
  },
  {
   "cell_type": "code",
   "execution_count": 9,
   "metadata": {},
   "outputs": [],
   "source": [
    "Y = datasets.iloc[:, 4].values #dependent variable"
   ]
  },
  {
   "cell_type": "code",
   "execution_count": 10,
   "metadata": {},
   "outputs": [
    {
     "data": {
      "text/plain": [
       "array([0, 0, 0, 0, 0], dtype=int64)"
      ]
     },
     "execution_count": 10,
     "metadata": {},
     "output_type": "execute_result"
    }
   ],
   "source": [
    "Y[0:5]"
   ]
  },
  {
   "cell_type": "code",
   "execution_count": 11,
   "metadata": {},
   "outputs": [],
   "source": [
    "# Splitting the dataset into the Training set and Test set\n",
    "\n",
    "from sklearn.model_selection import train_test_split\n",
    "X_Train, X_Test, Y_Train, Y_Test = train_test_split(X, Y, test_size = 0.25, random_state = 200)\n"
   ]
  },
  {
   "cell_type": "code",
   "execution_count": 12,
   "metadata": {},
   "outputs": [
    {
     "data": {
      "text/plain": [
       "(300, 2)"
      ]
     },
     "execution_count": 12,
     "metadata": {},
     "output_type": "execute_result"
    }
   ],
   "source": [
    "X_Train.shape #300 rows and 2 columns are for training"
   ]
  },
  {
   "cell_type": "code",
   "execution_count": 13,
   "metadata": {},
   "outputs": [
    {
     "data": {
      "text/plain": [
       "(100, 2)"
      ]
     },
     "execution_count": 13,
     "metadata": {},
     "output_type": "execute_result"
    }
   ],
   "source": [
    "X_Test.shape #100 rows and 2 columns are for testing"
   ]
  },
  {
   "cell_type": "code",
   "execution_count": 15,
   "metadata": {},
   "outputs": [],
   "source": [
    "# Feature Scaling\n",
    "\n",
    "from sklearn.preprocessing import StandardScaler\n",
    "sc_X = StandardScaler()\n",
    "X_Train = sc_X.fit_transform(X_Train)\n",
    "X_Test = sc_X.transform(X_Test)\n"
   ]
  },
  {
   "cell_type": "code",
   "execution_count": 34,
   "metadata": {},
   "outputs": [
    {
     "data": {
      "text/plain": [
       "array([[ 0.03016333, -0.22931642],\n",
       "       [-0.06508929,  0.10229804],\n",
       "       [ 0.98268949, -1.07342594],\n",
       "       [-1.77963637,  0.49420603],\n",
       "       [-1.01761545,  2.061838  ],\n",
       "       [-0.06508929, -0.47049057],\n",
       "       [ 0.31592118,  0.55449957],\n",
       "       [ 1.83996303,  1.60963647],\n",
       "       [ 2.12572088,  1.18758171],\n",
       "       [-0.06508929, -0.50063734],\n",
       "       [-0.25559452, -1.31460009],\n",
       "       [ 0.69693164, -1.4050404 ],\n",
       "       [-1.01761545,  0.64493987],\n",
       "       [ 0.98268949, -0.83225179],\n",
       "       [-0.44609975,  1.33831555],\n",
       "       [ 1.93521564, -0.9226921 ],\n",
       "       [-0.44609975, -0.53078411],\n",
       "       [-0.92236283, -0.41019703],\n",
       "       [-1.11286806,  0.34347218],\n",
       "       [-1.01761545, -1.55577424],\n",
       "       [ 1.6494578 ,  1.85081062],\n",
       "       [-0.54135237,  1.45890263],\n",
       "       [ 0.22066856,  0.19273834],\n",
       "       [-1.11286806,  1.48904939],\n",
       "       [ 1.45895257,  0.40376572],\n",
       "       [-0.06508929,  0.34347218],\n",
       "       [ 1.45895257, -1.04327917],\n",
       "       [ 0.41117379, -0.4403438 ],\n",
       "       [ 0.22066856, -0.3499035 ],\n",
       "       [ 0.98268949,  2.18242507],\n",
       "       [-0.7318576 ,  0.34347218],\n",
       "       [ 0.31592118,  0.10229804],\n",
       "       [ 0.31592118,  0.31332542],\n",
       "       [ 1.6494578 , -0.89254533],\n",
       "       [ 0.79218425, -1.22415979],\n",
       "       [ 0.41117379,  0.34347218],\n",
       "       [ 1.26844733,  2.33315892],\n",
       "       [ 0.50642641,  1.82066385],\n",
       "       [ 2.03046826,  0.22288511],\n",
       "       [-0.92236283, -0.28960996],\n",
       "       [-0.82711021,  0.19273834],\n",
       "       [-1.58913114, -0.01828904],\n",
       "       [-0.82711021,  0.43391249],\n",
       "       [-0.25559452, -0.31975673],\n",
       "       [ 0.12541594,  1.12728817],\n",
       "       [ 1.83996303,  0.16259157],\n",
       "       [ 2.03046826,  0.43391249],\n",
       "       [-0.25559452, -0.65137118],\n",
       "       [-1.11286806,  0.5243528 ],\n",
       "       [-0.25559452, -0.9226921 ],\n",
       "       [ 0.03016333, -0.10872935],\n",
       "       [-0.82711021, -0.22931642],\n",
       "       [-0.25559452,  0.19273834],\n",
       "       [ 0.31592118, -0.50063734],\n",
       "       [ 0.98268949,  0.64493987],\n",
       "       [ 1.36369995, -0.9226921 ],\n",
       "       [-0.92236283,  0.6147931 ],\n",
       "       [-0.06508929, -0.3499035 ],\n",
       "       [ 0.98268949, -1.07342594],\n",
       "       [ 0.69693164, -0.71166472],\n",
       "       [ 1.0779421 ,  2.18242507],\n",
       "       [-1.01761545, -1.46533394],\n",
       "       [-0.92236283, -0.28960996],\n",
       "       [ 1.0779421 , -0.89254533],\n",
       "       [ 0.41117379,  1.18758171],\n",
       "       [ 2.12572088, -0.68151795],\n",
       "       [ 0.69693164, -1.4050404 ],\n",
       "       [-1.01761545,  0.82582048],\n",
       "       [-0.1603419 , -0.25946319],\n",
       "       [-1.30337329, -1.4954807 ],\n",
       "       [ 0.79218425,  1.45890263],\n",
       "       [ 0.41117379, -0.47049057],\n",
       "       [ 1.36369995,  1.36846232],\n",
       "       [-0.25559452,  0.25303188],\n",
       "       [-0.82711021, -1.22415979],\n",
       "       [ 0.88743687, -1.46533394],\n",
       "       [-1.30337329, -0.31975673],\n",
       "       [-1.01761545, -0.31975673],\n",
       "       [ 0.98268949,  1.97139769],\n",
       "       [-1.11286806,  0.37361895],\n",
       "       [-0.06508929,  0.34347218],\n",
       "       [ 0.98268949, -1.19401302],\n",
       "       [-1.68438376, -1.37489363],\n",
       "       [-0.92236283,  0.46405926],\n",
       "       [-0.25559452,  0.85596725],\n",
       "       [-0.25559452,  0.07215127],\n",
       "       [ 0.50642641,  1.94125092],\n",
       "       [ 0.31592118, -0.28960996],\n",
       "       [-0.25559452,  0.58464633],\n",
       "       [ 0.12541594,  1.97139769],\n",
       "       [ 0.12541594,  0.07215127],\n",
       "       [ 0.50642641,  1.30816878],\n",
       "       [-0.63660498, -0.01828904],\n",
       "       [-0.06508929,  0.73538018],\n",
       "       [-0.06508929,  2.27286538],\n",
       "       [ 0.88743687,  1.15743494],\n",
       "       [-0.7318576 ,  1.42875586],\n",
       "       [ 0.22066856,  0.07215127],\n",
       "       [-1.68438376, -0.98298564],\n",
       "       [ 0.03016333,  0.34347218],\n",
       "       [ 0.22066856, -0.25946319],\n",
       "       [-0.25559452,  0.1324448 ],\n",
       "       [-0.1603419 , -0.4403438 ],\n",
       "       [ 1.0779421 , -1.22415979],\n",
       "       [ 2.03046826, -1.19401302],\n",
       "       [-1.01761545,  0.58464633],\n",
       "       [ 0.22066856, -0.10872935],\n",
       "       [-0.82711021,  0.34347218],\n",
       "       [-1.11286806, -1.01313241],\n",
       "       [ 0.98268949,  0.82582048],\n",
       "       [ 0.98268949, -1.01313241],\n",
       "       [ 1.26844733,  1.97139769],\n",
       "       [ 1.74471041,  1.94125092],\n",
       "       [-0.06508929,  0.07215127],\n",
       "       [ 0.79218425,  0.16259157],\n",
       "       [ 0.03016333, -0.22931642],\n",
       "       [-0.35084713,  1.39860909],\n",
       "       [-0.35084713,  1.30816878],\n",
       "       [-1.01761545, -0.31975673],\n",
       "       [-0.44609975, -1.22415979],\n",
       "       [ 0.22066856, -0.3499035 ],\n",
       "       [-0.54135237,  0.5243528 ],\n",
       "       [ 1.36369995,  2.09198477],\n",
       "       [-0.63660498,  0.16259157],\n",
       "       [ 0.88743687, -0.65137118],\n",
       "       [ 1.0779421 ,  0.5243528 ],\n",
       "       [ 0.88743687,  2.27286538],\n",
       "       [-0.06508929, -0.19916965],\n",
       "       [ 0.41117379,  0.1324448 ],\n",
       "       [ 2.12572088,  1.0067011 ],\n",
       "       [ 0.79218425, -1.37489363],\n",
       "       [-0.06508929,  0.31332542],\n",
       "       [ 0.41117379,  1.06699463],\n",
       "       [-0.54135237,  1.54934293],\n",
       "       [-0.54135237, -1.52562747],\n",
       "       [-1.01761545,  0.6147931 ],\n",
       "       [ 1.83996303, -1.07342594],\n",
       "       [-0.1603419 ,  2.27286538],\n",
       "       [-0.92236283, -0.74181149],\n",
       "       [-0.63660498, -0.31975673],\n",
       "       [-0.54135237, -1.52562747],\n",
       "       [ 1.55420518,  1.06699463],\n",
       "       [ 0.69693164,  1.88095739],\n",
       "       [ 1.93521564,  0.79567371],\n",
       "       [-0.25559452, -0.56093088],\n",
       "       [ 0.69693164, -1.10357271],\n",
       "       [-0.25559452,  0.31332542],\n",
       "       [ 0.88743687, -0.59107764],\n",
       "       [-0.25559452, -1.37489363],\n",
       "       [-0.92236283,  0.31332542],\n",
       "       [ 0.41117379,  0.34347218],\n",
       "       [-1.11286806,  0.34347218],\n",
       "       [ 1.74471041, -0.25946319],\n",
       "       [-0.06508929, -1.07342594],\n",
       "       [-1.39862591, -1.22415979],\n",
       "       [ 1.83996303, -1.28445332],\n",
       "       [-0.35084713, -1.31460009],\n",
       "       [-0.35084713, -0.77195826],\n",
       "       [ 1.36369995, -1.43518717],\n",
       "       [ 0.88743687,  1.0971414 ],\n",
       "       [-1.49387852,  0.37361895],\n",
       "       [-1.77963637, -1.43518717],\n",
       "       [-1.11286806, -1.16386625],\n",
       "       [ 0.69693164, -1.28445332],\n",
       "       [-1.49387852, -1.25430656],\n",
       "       [-0.63660498,  0.22288511],\n",
       "       [ 0.88743687, -1.37489363],\n",
       "       [ 0.12541594, -0.80210503],\n",
       "       [-0.7318576 ,  0.55449957],\n",
       "       [-1.39862591,  0.40376572],\n",
       "       [-1.11286806, -0.77195826],\n",
       "       [ 0.12541594,  0.25303188],\n",
       "       [ 0.79218425, -1.4050404 ],\n",
       "       [-1.68438376,  0.40376572],\n",
       "       [-0.7318576 , -0.19916965],\n",
       "       [ 0.03016333,  0.07215127],\n",
       "       [ 0.12541594,  0.19273834],\n",
       "       [ 0.12541594,  0.1324448 ],\n",
       "       [ 0.03016333,  1.33831555],\n",
       "       [ 0.60167902,  2.12213154],\n",
       "       [-0.25559452,  0.10229804],\n",
       "       [ 0.79218425, -0.83225179],\n",
       "       [-1.20812068,  0.31332542],\n",
       "       [ 1.6494578 ,  1.70007677],\n",
       "       [-1.20812068,  0.34347218],\n",
       "       [ 0.22066856, -0.28960996],\n",
       "       [-1.58913114,  0.58464633],\n",
       "       [-0.25559452, -0.47049057],\n",
       "       [-0.25559452,  0.19273834],\n",
       "       [-0.7318576 , -0.59107764],\n",
       "       [-0.92236283,  0.49420603],\n",
       "       [-0.7318576 ,  1.15743494],\n",
       "       [-1.20812068,  0.55449957],\n",
       "       [-0.25559452, -0.25946319],\n",
       "       [ 0.12541594, -0.28960996],\n",
       "       [-1.39862591, -1.46533394],\n",
       "       [-1.68438376,  0.16259157],\n",
       "       [ 2.03046826, -0.80210503],\n",
       "       [-0.25559452, -0.74181149],\n",
       "       [-0.1603419 , -0.50063734],\n",
       "       [-0.25559452, -0.22931642],\n",
       "       [ 0.41117379, -0.10872935],\n",
       "       [-0.7318576 , -1.61606778],\n",
       "       [-1.77963637, -1.28445332],\n",
       "       [-0.54135237,  0.94640756],\n",
       "       [ 0.12541594,  0.07215127],\n",
       "       [-0.25559452,  2.36330569],\n",
       "       [ 1.93521564, -0.65137118],\n",
       "       [ 0.12541594,  0.31332542],\n",
       "       [ 0.22066856,  0.10229804],\n",
       "       [ 0.31592118, -0.50063734],\n",
       "       [-0.25559452, -1.4050404 ],\n",
       "       [ 0.88743687, -1.16386625],\n",
       "       [ 1.45895257,  1.06699463],\n",
       "       [ 1.74471041,  1.06699463],\n",
       "       [ 2.12572088, -1.04327917],\n",
       "       [-0.06508929, -0.41019703],\n",
       "       [-0.63660498, -1.52562747],\n",
       "       [ 1.93521564, -1.37489363],\n",
       "       [ 0.03016333,  1.30816878],\n",
       "       [ 0.31592118,  0.34347218],\n",
       "       [-0.63660498, -1.61606778],\n",
       "       [-0.06508929,  0.25303188],\n",
       "       [-1.11286806,  0.10229804],\n",
       "       [-1.68438376, -0.59107764],\n",
       "       [-0.35084713, -0.77195826],\n",
       "       [-1.77963637, -1.4954807 ],\n",
       "       [ 0.79218425,  0.82582048],\n",
       "       [ 0.41117379,  0.19273834],\n",
       "       [ 0.12541594, -0.80210503],\n",
       "       [-1.77963637,  0.0420045 ],\n",
       "       [ 1.0779421 , -0.98298564],\n",
       "       [-0.82711021,  2.39345245],\n",
       "       [ 0.31592118, -0.71166472],\n",
       "       [ 0.03016333, -0.41019703],\n",
       "       [ 0.88743687, -1.04327917],\n",
       "       [-1.39862591, -0.16902288],\n",
       "       [ 1.0779421 , -0.10872935],\n",
       "       [-0.92236283,  1.63978324],\n",
       "       [-1.30337329, -1.37489363],\n",
       "       [-0.82711021, -0.77195826],\n",
       "       [-0.7318576 ,  0.31332542],\n",
       "       [ 1.36369995,  0.64493987],\n",
       "       [-1.01761545,  0.46405926],\n",
       "       [-0.82711021,  0.43391249],\n",
       "       [-1.30337329,  0.46405926],\n",
       "       [ 1.26844733, -1.37489363],\n",
       "       [-1.68438376,  0.40376572],\n",
       "       [-1.87488899, -0.50063734],\n",
       "       [-0.92236283, -0.95283887],\n",
       "       [ 0.31592118,  0.10229804],\n",
       "       [-0.92236283, -1.10357271],\n",
       "       [ 1.45895257,  0.10229804],\n",
       "       [-1.11286806, -1.58592101],\n",
       "       [ 2.12572088,  0.43391249],\n",
       "       [-0.25559452, -0.89254533],\n",
       "       [-1.20812068,  0.64493987],\n",
       "       [-1.01761545, -0.3499035 ],\n",
       "       [-0.44609975, -0.25946319],\n",
       "       [-0.06508929,  0.19273834],\n",
       "       [-1.30337329, -0.41019703],\n",
       "       [-0.44609975, -1.13371948],\n",
       "       [-0.7318576 , -1.55577424],\n",
       "       [ 1.17319472,  0.58464633],\n",
       "       [ 0.79218425, -1.10357271],\n",
       "       [ 0.03016333,  0.07215127],\n",
       "       [-0.25559452, -0.41019703],\n",
       "       [-0.44609975, -0.83225179],\n",
       "       [-0.54135237,  2.00154446],\n",
       "       [ 0.31592118,  0.10229804],\n",
       "       [ 1.0779421 ,  0.6147931 ],\n",
       "       [ 0.88743687, -0.56093088],\n",
       "       [ 1.17319472, -1.46533394],\n",
       "       [ 0.41117379,  0.0420045 ],\n",
       "       [-0.25559452,  0.10229804],\n",
       "       [-0.63660498,  1.48904939],\n",
       "       [ 1.17319472, -0.98298564],\n",
       "       [ 0.79218425,  0.40376572],\n",
       "       [-1.11286806,  0.46405926],\n",
       "       [-0.7318576 ,  0.6147931 ],\n",
       "       [ 1.0779421 ,  0.16259157],\n",
       "       [-1.87488899, -0.74181149],\n",
       "       [-0.54135237,  2.45374599],\n",
       "       [-0.25559452, -1.46533394],\n",
       "       [ 0.03016333, -0.56093088],\n",
       "       [-0.25559452,  1.18758171],\n",
       "       [-1.77963637, -1.31460009],\n",
       "       [-0.25559452, -0.56093088],\n",
       "       [-0.63660498, -0.07858258],\n",
       "       [ 2.03046826,  2.24271861],\n",
       "       [-1.87488899,  0.40376572],\n",
       "       [ 0.31592118, -0.16902288],\n",
       "       [-1.11286806, -1.55577424],\n",
       "       [ 0.41117379, -0.10872935],\n",
       "       [-0.44609975, -0.77195826],\n",
       "       [ 0.69693164,  0.31332542],\n",
       "       [ 0.98268949,  1.88095739],\n",
       "       [ 2.12572088, -0.80210503],\n",
       "       [-1.58913114,  0.10229804],\n",
       "       [-0.06508929,  0.0420045 ]])"
      ]
     },
     "execution_count": 34,
     "metadata": {},
     "output_type": "execute_result"
    }
   ],
   "source": [
    "X_Train"
   ]
  },
  {
   "cell_type": "code",
   "execution_count": 35,
   "metadata": {},
   "outputs": [
    {
     "data": {
      "text/plain": [
       "array([[ 0.31592118, -0.53078411],\n",
       "       [ 1.0779421 , -1.22415979],\n",
       "       [-0.1603419 , -0.16902288],\n",
       "       [ 1.93521564,  0.97655433],\n",
       "       [ 0.41117379, -0.13887611],\n",
       "       [-0.44609975,  0.01185773],\n",
       "       [ 0.22066856,  0.19273834],\n",
       "       [ 0.79218425, -0.28960996],\n",
       "       [-1.11286806, -1.10357271],\n",
       "       [ 0.98268949,  1.51919616],\n",
       "       [-0.06508929,  2.33315892],\n",
       "       [-1.30337329, -0.41019703],\n",
       "       [-0.1603419 ,  0.91626079],\n",
       "       [-0.1603419 , -0.56093088],\n",
       "       [ 0.03016333, -0.53078411],\n",
       "       [-0.1603419 , -1.07342594],\n",
       "       [-0.25559452, -0.28960996],\n",
       "       [-1.39862591, -0.62122441],\n",
       "       [ 0.88743687, -0.77195826],\n",
       "       [ 1.83996303, -0.25946319],\n",
       "       [ 0.22066856, -0.22931642],\n",
       "       [ 0.60167902, -0.89254533],\n",
       "       [ 0.31592118, -1.16386625],\n",
       "       [ 2.12572088, -0.80210503],\n",
       "       [-0.06508929,  0.28317865],\n",
       "       [ 0.03016333, -0.56093088],\n",
       "       [ 0.88743687, -1.31460009],\n",
       "       [ 0.41117379, -0.4403438 ],\n",
       "       [-1.30337329, -1.10357271],\n",
       "       [ 0.41117379,  2.42359922],\n",
       "       [-0.63660498,  0.07215127],\n",
       "       [-0.1603419 ,  1.73022354],\n",
       "       [-1.49387852, -1.52562747],\n",
       "       [-1.11286806, -0.50063734],\n",
       "       [-0.35084713,  0.10229804],\n",
       "       [ 1.55420518,  0.0420045 ],\n",
       "       [-1.68438376,  0.5243528 ],\n",
       "       [ 0.98268949,  2.09198477],\n",
       "       [ 0.22066856,  1.15743494],\n",
       "       [-0.82711021, -0.65137118],\n",
       "       [ 1.36369995,  2.45374599],\n",
       "       [ 0.22066856,  0.28317865],\n",
       "       [ 0.98268949, -1.16386625],\n",
       "       [-0.44609975,  2.42359922],\n",
       "       [ 2.03046826,  1.85081062],\n",
       "       [ 0.22066856, -0.65137118],\n",
       "       [ 0.22066856, -0.3499035 ],\n",
       "       [ 0.03016333, -0.28960996],\n",
       "       [-0.63660498,  0.6147931 ],\n",
       "       [-1.11286806, -1.61606778],\n",
       "       [-0.25559452, -0.10872935],\n",
       "       [-0.1603419 ,  1.70007677],\n",
       "       [-1.20812068, -1.07342594],\n",
       "       [-0.25559452,  0.67508664],\n",
       "       [ 0.88743687,  1.33831555],\n",
       "       [-0.06508929,  2.061838  ],\n",
       "       [ 1.0779421 ,  0.58464633],\n",
       "       [-0.1603419 ,  1.48904939],\n",
       "       [-0.25559452, -1.25430656],\n",
       "       [-0.63660498, -1.04327917],\n",
       "       [-1.20812068, -1.4050404 ],\n",
       "       [-0.92236283,  0.55449957],\n",
       "       [ 0.12541594, -0.22931642],\n",
       "       [-1.30337329,  0.6147931 ],\n",
       "       [-1.58913114, -1.58592101],\n",
       "       [-0.54135237,  1.45890263],\n",
       "       [-0.82711021, -0.77195826],\n",
       "       [ 0.41117379,  0.64493987],\n",
       "       [-0.25559452, -0.3499035 ],\n",
       "       [ 0.31592118, -0.25946319],\n",
       "       [-1.49387852, -0.41019703],\n",
       "       [ 1.45895257,  2.24271861],\n",
       "       [ 0.31592118,  0.10229804],\n",
       "       [-1.11286806, -1.61606778],\n",
       "       [-1.01761545, -1.13371948],\n",
       "       [ 1.55420518, -1.28445332],\n",
       "       [-1.49387852, -0.16902288],\n",
       "       [ 1.55420518,  1.18758171],\n",
       "       [ 0.12541594,  1.60963647],\n",
       "       [ 0.12541594,  0.82582048],\n",
       "       [-0.1603419 ,  0.19273834],\n",
       "       [-1.39862591, -0.07858258],\n",
       "       [-1.77963637,  0.22288511],\n",
       "       [ 0.31592118,  0.07215127],\n",
       "       [ 0.12541594,  1.97139769],\n",
       "       [-1.87488899,  0.5243528 ],\n",
       "       [-1.30337329, -1.25430656],\n",
       "       [ 0.41117379,  0.31332542],\n",
       "       [-0.7318576 ,  2.00154446],\n",
       "       [ 1.93521564,  2.27286538],\n",
       "       [ 0.79218425,  0.58464633],\n",
       "       [-1.87488899, -0.01828904],\n",
       "       [ 0.88743687, -0.53078411],\n",
       "       [ 0.98268949,  0.16259157],\n",
       "       [-0.06508929,  0.16259157],\n",
       "       [ 1.17319472, -0.74181149],\n",
       "       [ 0.22066856,  2.21257184],\n",
       "       [ 0.79218425,  0.31332542],\n",
       "       [-1.01761545, -0.4403438 ],\n",
       "       [ 2.03046826,  0.58464633]])"
      ]
     },
     "execution_count": 35,
     "metadata": {},
     "output_type": "execute_result"
    }
   ],
   "source": [
    "X_Test"
   ]
  },
  {
   "cell_type": "code",
   "execution_count": 22,
   "metadata": {},
   "outputs": [
    {
     "data": {
      "text/plain": [
       "RandomForestClassifier(criterion='entropy', n_estimators=5000)"
      ]
     },
     "execution_count": 22,
     "metadata": {},
     "output_type": "execute_result"
    }
   ],
   "source": [
    "# Fitting the classifier into the Training set\n",
    "from sklearn.ensemble import RandomForestClassifier\n",
    "classifier = RandomForestClassifier(n_estimators = 5000, criterion = 'entropy')#1000 decision trees\n",
    "classifier.fit(X_Train,Y_Train)#question,answers (300,2) (300,1)"
   ]
  },
  {
   "cell_type": "code",
   "execution_count": 23,
   "metadata": {},
   "outputs": [],
   "source": [
    "# Predicting the test set results\n",
    "\n",
    "\n",
    "Y_Pred = classifier.predict(X_Test)#examination only question are given"
   ]
  },
  {
   "cell_type": "code",
   "execution_count": 24,
   "metadata": {},
   "outputs": [
    {
     "data": {
      "text/plain": [
       "0.8974358974358975"
      ]
     },
     "execution_count": 24,
     "metadata": {},
     "output_type": "execute_result"
    }
   ],
   "source": [
    "from sklearn.metrics import f1_score\n",
    "f1_score(Y_Test,Y_Pred)#actual,predict"
   ]
  },
  {
   "cell_type": "code",
   "execution_count": 25,
   "metadata": {},
   "outputs": [],
   "source": [
    "import matplotlib.pyplot as plt"
   ]
  },
  {
   "cell_type": "code",
   "execution_count": 27,
   "metadata": {},
   "outputs": [
    {
     "data": {
      "text/plain": [
       "array([ 19000,  20000,  43000,  57000,  76000,  58000,  84000, 150000,\n",
       "        33000,  65000,  80000,  52000,  86000,  18000,  82000,  80000,\n",
       "        25000,  26000,  28000,  29000,  22000,  49000,  41000,  22000,\n",
       "        23000,  20000,  28000,  30000,  43000,  18000,  74000, 137000,\n",
       "        16000,  44000,  90000,  27000,  28000,  49000,  72000,  31000,\n",
       "        17000,  51000, 108000,  15000,  84000,  20000,  79000,  54000,\n",
       "       135000,  89000,  32000,  44000,  83000,  23000,  58000,  55000,\n",
       "        48000,  79000,  18000, 117000,  20000,  87000,  66000, 120000,\n",
       "        83000,  58000,  19000,  82000,  63000,  68000,  80000,  27000,\n",
       "        23000, 113000,  18000, 112000,  52000,  27000,  87000,  17000,\n",
       "        80000,  42000,  49000,  88000,  62000, 118000,  55000,  85000,\n",
       "        81000,  50000,  81000, 116000,  15000,  28000,  83000,  44000,\n",
       "        25000, 123000,  73000,  37000,  88000,  59000,  86000, 149000,\n",
       "        21000,  72000,  35000,  89000,  86000,  80000,  71000,  71000,\n",
       "        61000,  55000,  80000,  57000,  75000,  52000,  59000,  59000,\n",
       "        75000,  72000,  75000,  53000,  51000,  61000,  65000,  32000,\n",
       "        17000,  84000,  58000,  31000,  87000,  68000,  55000,  63000,\n",
       "        82000, 107000,  59000,  25000,  85000,  68000,  59000,  89000,\n",
       "        25000,  89000,  96000,  30000,  61000,  74000,  15000,  45000,\n",
       "        76000,  50000,  47000,  15000,  59000,  75000,  30000, 135000,\n",
       "       100000,  90000,  33000,  38000,  69000,  86000,  55000,  71000,\n",
       "       148000,  47000,  88000, 115000, 118000,  43000,  72000,  28000,\n",
       "        47000,  22000,  23000,  34000,  16000,  71000, 117000,  43000,\n",
       "        60000,  66000,  82000,  41000,  72000,  32000,  84000,  26000,\n",
       "        43000,  70000,  89000,  43000,  79000,  36000,  80000,  22000,\n",
       "        39000,  74000, 134000,  71000, 101000,  47000, 130000, 114000,\n",
       "       142000,  22000,  96000, 150000,  42000,  58000,  43000, 108000,\n",
       "        65000,  78000,  96000, 143000,  80000,  91000, 144000, 102000,\n",
       "        60000,  53000, 126000, 133000,  72000,  80000, 147000,  42000,\n",
       "       107000,  86000, 112000,  79000,  57000,  80000,  82000, 143000,\n",
       "       149000,  59000,  88000, 104000,  72000, 146000,  50000, 122000,\n",
       "        52000,  97000,  39000,  52000, 134000, 146000,  44000,  90000,\n",
       "        72000,  57000,  95000, 131000,  77000, 144000, 125000,  72000,\n",
       "        90000, 108000,  75000,  74000, 144000,  61000, 133000,  76000,\n",
       "        42000, 106000,  26000,  74000,  71000,  88000,  38000,  36000,\n",
       "        88000,  61000,  70000,  21000, 141000,  93000,  62000, 138000,\n",
       "        79000,  78000, 134000,  89000,  39000,  77000,  57000,  63000,\n",
       "        73000, 112000,  79000, 117000,  38000,  74000, 137000,  79000,\n",
       "        60000,  54000, 134000, 113000, 125000,  50000,  70000,  96000,\n",
       "        50000, 141000,  79000,  75000, 104000,  55000,  32000,  60000,\n",
       "       138000,  82000,  52000,  30000, 131000,  60000,  72000,  75000,\n",
       "       118000, 107000,  51000, 119000,  65000,  65000,  60000,  54000,\n",
       "       144000,  79000,  55000, 122000, 104000,  75000,  65000,  51000,\n",
       "       105000,  63000,  72000, 108000,  77000,  61000, 113000,  75000,\n",
       "        90000,  57000,  99000,  34000,  70000,  72000,  71000,  54000,\n",
       "       129000,  34000,  50000,  79000, 104000,  29000,  47000,  88000,\n",
       "        71000,  26000,  46000,  83000,  73000, 130000,  80000,  32000,\n",
       "        74000,  53000,  87000,  23000,  64000,  33000, 139000,  28000,\n",
       "        33000,  60000,  39000,  71000,  34000,  35000,  33000,  23000,\n",
       "        45000,  42000,  59000,  41000,  23000,  20000,  33000,  36000],\n",
       "      dtype=int64)"
      ]
     },
     "execution_count": 27,
     "metadata": {},
     "output_type": "execute_result"
    }
   ],
   "source": [
    "X[:,1]"
   ]
  },
  {
   "cell_type": "code",
   "execution_count": 36,
   "metadata": {},
   "outputs": [],
   "source": [
    "colors=['red','black'] "
   ]
  },
  {
   "cell_type": "code",
   "execution_count": 40,
   "metadata": {},
   "outputs": [
    {
     "data": {
      "text/plain": [
       "(100, 2)"
      ]
     },
     "execution_count": 40,
     "metadata": {},
     "output_type": "execute_result"
    }
   ],
   "source": [
    "X_Test.shape"
   ]
  },
  {
   "cell_type": "code",
   "execution_count": 41,
   "metadata": {},
   "outputs": [
    {
     "data": {
      "text/plain": [
       "(100,)"
      ]
     },
     "execution_count": 41,
     "metadata": {},
     "output_type": "execute_result"
    }
   ],
   "source": [
    "Y_Test.shape"
   ]
  },
  {
   "cell_type": "code",
   "execution_count": 42,
   "metadata": {},
   "outputs": [
    {
     "data": {
      "text/plain": [
       "<matplotlib.collections.PathCollection at 0x16d12c64340>"
      ]
     },
     "execution_count": 42,
     "metadata": {},
     "output_type": "execute_result"
    },
    {
     "data": {
      "image/png": "[encoded data removed]",
      "text/plain": [
       "<Figure size 432x288 with 1 Axes>"
      ]
     },
     "metadata": {
      "needs_background": "light"
     },
     "output_type": "display_data"
    }
   ],
   "source": [
    "plt.scatter(X_Test[:,0],X_Test[:,1],c = Y_Test)"
   ]
  },
  {
   "cell_type": "code",
   "execution_count": 43,
   "metadata": {},
   "outputs": [
    {
     "data": {
      "text/plain": [
       "<matplotlib.collections.PathCollection at 0x16d12cd29d0>"
      ]
     },
     "execution_count": 43,
     "metadata": {},
     "output_type": "execute_result"
    },
    {
     "data": {
      "image/png": "[encoded data removed]",
      "text/plain": [
       "<Figure size 432x288 with 1 Axes>"
      ]
     },
     "metadata": {
      "needs_background": "light"
     },
     "output_type": "display_data"
    }
   ],
   "source": [
    "plt.scatter(X_Test[:,0],X_Test[:,1],c = Y_Pred)"
   ]
  },
  {
   "cell_type": "code",
   "execution_count": null,
   "metadata": {},
   "outputs": [],
   "source": []
  },
  {
   "cell_type": "code",
   "execution_count": null,
   "metadata": {},
   "outputs": [],
   "source": []
  }
 ],
 "metadata": {
  "kernelspec": {
   "display_name": "Python 3 (ipykernel)",
   "language": "python",
   "name": "python3"
  },
  "language_info": {
   "codemirror_mode": {
    "name": "ipython",
    "version": 3
   },
   "file_extension": ".py",
   "mimetype": "text/x-python",
   "name": "python",
   "nbconvert_exporter": "python",
   "pygments_lexer": "ipython3",
   "version": "3.9.13"
  }
 },
 "nbformat": 4,
 "nbformat_minor": 2
}
